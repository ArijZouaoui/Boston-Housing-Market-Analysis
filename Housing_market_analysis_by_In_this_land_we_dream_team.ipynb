{
  "nbformat": 4,
  "nbformat_minor": 0,
  "metadata": {
    "colab": {
      "name": "Housing_market_analysis_by_In_this_land_we_dream.ipynb",
      "provenance": [],
      "collapsed_sections": [],
      "toc_visible": true
    },
    "kernelspec": {
      "name": "python3",
      "display_name": "Python 3"
    }
  },
  "cells": [
    {
      "cell_type": "markdown",
      "metadata": {
        "id": "_nbuexB-ux2p"
      },
      "source": [
        "# Housing Market Analysis \r\n",
        "\r\n"
      ]
    },
    {
      "cell_type": "markdown",
      "metadata": {
        "id": "--flNaw4ygjU"
      },
      "source": [
        "## I. Setting up our environment"
      ]
    },
    {
      "cell_type": "markdown",
      "metadata": {
        "id": "TjNZ95_kyr0g"
      },
      "source": [
        "### 1. Importing missing packages"
      ]
    },
    {
      "cell_type": "code",
      "metadata": {
        "colab": {
          "base_uri": "https://localhost:8080/"
        },
        "id": "KZPcrq3Ln3Hv",
        "outputId": "a85dec21-8cb9-4bbf-db25-3d5c95fe4027"
      },
      "source": [
        "!pip install geopandas\r\n",
        "!pip install ggplot\r\n",
        "!pip install pdpbox\r\n",
        "!pip install scikit-misc"
      ],
      "execution_count": null,
      "outputs": [
        {
          "output_type": "stream",
          "text": [
            "Requirement already satisfied: geopandas in /usr/local/lib/python3.6/dist-packages (0.8.2)\n",
            "Requirement already satisfied: pandas>=0.23.0 in /usr/local/lib/python3.6/dist-packages (from geopandas) (1.1.5)\n",
            "Requirement already satisfied: fiona in /usr/local/lib/python3.6/dist-packages (from geopandas) (1.8.18)\n",
            "Requirement already satisfied: pyproj>=2.2.0 in /usr/local/lib/python3.6/dist-packages (from geopandas) (3.0.0.post1)\n",
            "Requirement already satisfied: shapely in /usr/local/lib/python3.6/dist-packages (from geopandas) (1.7.1)\n",
            "Requirement already satisfied: numpy>=1.15.4 in /usr/local/lib/python3.6/dist-packages (from pandas>=0.23.0->geopandas) (1.19.5)\n",
            "Requirement already satisfied: pytz>=2017.2 in /usr/local/lib/python3.6/dist-packages (from pandas>=0.23.0->geopandas) (2018.9)\n",
            "Requirement already satisfied: python-dateutil>=2.7.3 in /usr/local/lib/python3.6/dist-packages (from pandas>=0.23.0->geopandas) (2.8.1)\n",
            "Requirement already satisfied: cligj>=0.5 in /usr/local/lib/python3.6/dist-packages (from fiona->geopandas) (0.7.1)\n",
            "Requirement already satisfied: certifi in /usr/local/lib/python3.6/dist-packages (from fiona->geopandas) (2020.12.5)\n",
            "Requirement already satisfied: six>=1.7 in /usr/local/lib/python3.6/dist-packages (from fiona->geopandas) (1.15.0)\n",
            "Requirement already satisfied: attrs>=17 in /usr/local/lib/python3.6/dist-packages (from fiona->geopandas) (20.3.0)\n",
            "Requirement already satisfied: munch in /usr/local/lib/python3.6/dist-packages (from fiona->geopandas) (2.5.0)\n",
            "Requirement already satisfied: click<8,>=4.0 in /usr/local/lib/python3.6/dist-packages (from fiona->geopandas) (7.1.2)\n",
            "Requirement already satisfied: click-plugins>=1.0 in /usr/local/lib/python3.6/dist-packages (from fiona->geopandas) (1.1.1)\n",
            "Requirement already satisfied: ggplot in /usr/local/lib/python3.6/dist-packages (0.11.5)\n",
            "Requirement already satisfied: pandas in /usr/local/lib/python3.6/dist-packages (from ggplot) (1.1.5)\n",
            "Requirement already satisfied: six in /usr/local/lib/python3.6/dist-packages (from ggplot) (1.15.0)\n",
            "Requirement already satisfied: numpy in /usr/local/lib/python3.6/dist-packages (from ggplot) (1.19.5)\n",
            "Requirement already satisfied: statsmodels in /usr/local/lib/python3.6/dist-packages (from ggplot) (0.10.2)\n",
            "Requirement already satisfied: patsy>=0.4 in /usr/local/lib/python3.6/dist-packages (from ggplot) (0.5.1)\n",
            "Requirement already satisfied: matplotlib in /usr/local/lib/python3.6/dist-packages (from ggplot) (3.2.2)\n",
            "Requirement already satisfied: brewer2mpl in /usr/local/lib/python3.6/dist-packages (from ggplot) (1.4.1)\n",
            "Requirement already satisfied: cycler in /usr/local/lib/python3.6/dist-packages (from ggplot) (0.10.0)\n",
            "Requirement already satisfied: scipy in /usr/local/lib/python3.6/dist-packages (from ggplot) (1.4.1)\n",
            "Requirement already satisfied: python-dateutil>=2.7.3 in /usr/local/lib/python3.6/dist-packages (from pandas->ggplot) (2.8.1)\n",
            "Requirement already satisfied: pytz>=2017.2 in /usr/local/lib/python3.6/dist-packages (from pandas->ggplot) (2018.9)\n",
            "Requirement already satisfied: pyparsing!=2.0.4,!=2.1.2,!=2.1.6,>=2.0.1 in /usr/local/lib/python3.6/dist-packages (from matplotlib->ggplot) (2.4.7)\n",
            "Requirement already satisfied: kiwisolver>=1.0.1 in /usr/local/lib/python3.6/dist-packages (from matplotlib->ggplot) (1.3.1)\n",
            "Requirement already satisfied: pdpbox in /usr/local/lib/python3.6/dist-packages (0.2.0)\n",
            "Requirement already satisfied: psutil in /usr/local/lib/python3.6/dist-packages (from pdpbox) (5.4.8)\n",
            "Requirement already satisfied: pandas in /usr/local/lib/python3.6/dist-packages (from pdpbox) (1.1.5)\n",
            "Requirement already satisfied: joblib in /usr/local/lib/python3.6/dist-packages (from pdpbox) (1.0.0)\n",
            "Requirement already satisfied: scikit-learn in /usr/local/lib/python3.6/dist-packages (from pdpbox) (0.22.2.post1)\n",
            "Requirement already satisfied: scipy in /usr/local/lib/python3.6/dist-packages (from pdpbox) (1.4.1)\n",
            "Requirement already satisfied: matplotlib>=2.1.2 in /usr/local/lib/python3.6/dist-packages (from pdpbox) (3.2.2)\n",
            "Requirement already satisfied: numpy in /usr/local/lib/python3.6/dist-packages (from pdpbox) (1.19.5)\n",
            "Requirement already satisfied: python-dateutil>=2.7.3 in /usr/local/lib/python3.6/dist-packages (from pandas->pdpbox) (2.8.1)\n",
            "Requirement already satisfied: pytz>=2017.2 in /usr/local/lib/python3.6/dist-packages (from pandas->pdpbox) (2018.9)\n",
            "Requirement already satisfied: cycler>=0.10 in /usr/local/lib/python3.6/dist-packages (from matplotlib>=2.1.2->pdpbox) (0.10.0)\n",
            "Requirement already satisfied: pyparsing!=2.0.4,!=2.1.2,!=2.1.6,>=2.0.1 in /usr/local/lib/python3.6/dist-packages (from matplotlib>=2.1.2->pdpbox) (2.4.7)\n",
            "Requirement already satisfied: kiwisolver>=1.0.1 in /usr/local/lib/python3.6/dist-packages (from matplotlib>=2.1.2->pdpbox) (1.3.1)\n",
            "Requirement already satisfied: six>=1.5 in /usr/local/lib/python3.6/dist-packages (from python-dateutil>=2.7.3->pandas->pdpbox) (1.15.0)\n",
            "Requirement already satisfied: scikit-misc in /usr/local/lib/python3.6/dist-packages (0.1.3)\n",
            "Requirement already satisfied: numpy in /usr/local/lib/python3.6/dist-packages (from scikit-misc) (1.19.5)\n"
          ],
          "name": "stdout"
        }
      ]
    },
    {
      "cell_type": "markdown",
      "metadata": {
        "id": "VCzK3p05Vm5X"
      },
      "source": [
        "### 2. Importing libraries"
      ]
    },
    {
      "cell_type": "code",
      "metadata": {
        "id": "INvI9xDsVxQM"
      },
      "source": [
        "import pandas as pd\r\n",
        "import numpy as np\r\n",
        "import matplotlib.pyplot as plt\r\n",
        "import seaborn as sns\r\n",
        "import geopandas as gpd\r\n",
        "\r\n",
        "from google.colab import drive\r\n",
        "from pdpbox import pdp\r\n",
        "from plotnine import *\r\n",
        "\r\n",
        "from sklearn.metrics import r2_score, mean_absolute_error ,mean_squared_error\r\n",
        "from sklearn.model_selection import cross_val_score ,train_test_split ,GridSearchCV\r\n",
        "from sklearn.linear_model import LinearRegression,Ridge ,Lasso\r\n",
        "from sklearn.preprocessing import StandardScaler,PolynomialFeatures\r\n",
        "from sklearn.pipeline import Pipeline\r\n",
        "import xgboost as xgb\r\n",
        "from sklearn.ensemble import RandomForestRegressor"
      ],
      "execution_count": null,
      "outputs": []
    },
    {
      "cell_type": "markdown",
      "metadata": {
        "id": "9vCxmG8aZ3Kx"
      },
      "source": [
        "### 3. Helper function \r\n",
        "We're going to use this function in order to display the metrics for a specific model in a non redundant way "
      ]
    },
    {
      "cell_type": "code",
      "metadata": {
        "id": "Hc-HccdeZy0g"
      },
      "source": [
        "def performance_metrics(features,  y_true, y_pred, th=0):\r\n",
        "  # this function returns a dataframe containing the metric for a specific model\r\n",
        "  # th : threshold default value = 0 : indicates the minimal value of correlation with the target when selecting features \r\n",
        "  total_features = []\r\n",
        "  total_features_name = []\r\n",
        "  selected_correlation_value = []\r\n",
        "  r2_scores = []\r\n",
        "  mae_value = []\r\n",
        "  mse_value = []\r\n",
        "  score = r2_score(y_true, y_pred)\r\n",
        "  mae = mean_absolute_error(y_true, y_pred)    \r\n",
        "  mse = mean_squared_error(y_true, y_pred)\r\n",
        "  total_features.append(len(features)-1)\r\n",
        "  total_features_name.append(str(features))\r\n",
        "  selected_correlation_value.append(th)\r\n",
        "  r2_scores.append(score)\r\n",
        "  mae_value.append(mae)\r\n",
        "  mse_value.append(mse)\r\n",
        "  metrics_dataframe = pd.DataFrame(data= [total_features_name, total_features, r2_scores, mae_value, mse_value],\r\n",
        "                                    index = ['features name', '#feature', 'r2_score', 'MAE', 'MSE'])\r\n",
        "  return metrics_dataframe.T"
      ],
      "execution_count": null,
      "outputs": []
    },
    {
      "cell_type": "markdown",
      "metadata": {
        "id": "5aLubP0aV8Ej"
      },
      "source": [
        "### 4. Mounting colab with my drive"
      ]
    },
    {
      "cell_type": "code",
      "metadata": {
        "colab": {
          "base_uri": "https://localhost:8080/"
        },
        "id": "Povcv_2spRNm",
        "outputId": "a48888cd-2d47-4e27-b208-a51c74700bc4"
      },
      "source": [
        "drive.mount('/content/drive')"
      ],
      "execution_count": null,
      "outputs": [
        {
          "output_type": "stream",
          "text": [
            "Drive already mounted at /content/drive; to attempt to forcibly remount, call drive.mount(\"/content/drive\", force_remount=True).\n"
          ],
          "name": "stdout"
        }
      ]
    },
    {
      "cell_type": "markdown",
      "metadata": {
        "id": "SJXxubqcWWOl"
      },
      "source": [
        "## II. Data processing & exploration"
      ]
    },
    {
      "cell_type": "markdown",
      "metadata": {
        "id": "itHd0Qgo0tEi"
      },
      "source": [
        "### 1. Import the data"
      ]
    },
    {
      "cell_type": "code",
      "metadata": {
        "id": "dYoqRp650tO8"
      },
      "source": [
        "boston = pd.read_csv('/content/drive/My Drive/AIHack/boston_corrected.csv')"
      ],
      "execution_count": null,
      "outputs": []
    },
    {
      "cell_type": "markdown",
      "metadata": {
        "id": "Ca-w29YTWgBx"
      },
      "source": [
        "### 2. Explore & clean the dataset"
      ]
    },
    {
      "cell_type": "code",
      "metadata": {
        "colab": {
          "base_uri": "https://localhost:8080/",
          "height": 224
        },
        "id": "7BD8w5fV0-oF",
        "outputId": "f8ebdb45-f621-46d5-daf6-0f193288fcdf"
      },
      "source": [
        "boston.head()"
      ],
      "execution_count": null,
      "outputs": [
        {
          "output_type": "execute_result",
          "data": {
            "text/html": [
              "<div>\n",
              "<style scoped>\n",
              "    .dataframe tbody tr th:only-of-type {\n",
              "        vertical-align: middle;\n",
              "    }\n",
              "\n",
              "    .dataframe tbody tr th {\n",
              "        vertical-align: top;\n",
              "    }\n",
              "\n",
              "    .dataframe thead th {\n",
              "        text-align: right;\n",
              "    }\n",
              "</style>\n",
              "<table border=\"1\" class=\"dataframe\">\n",
              "  <thead>\n",
              "    <tr style=\"text-align: right;\">\n",
              "      <th></th>\n",
              "      <th>TOWN</th>\n",
              "      <th>TOWNNO</th>\n",
              "      <th>TRACT</th>\n",
              "      <th>LON</th>\n",
              "      <th>LAT</th>\n",
              "      <th>MEDV</th>\n",
              "      <th>CMEDV</th>\n",
              "      <th>CRIM</th>\n",
              "      <th>ZN</th>\n",
              "      <th>INDUS</th>\n",
              "      <th>CHAS</th>\n",
              "      <th>NOX</th>\n",
              "      <th>RM</th>\n",
              "      <th>AGE</th>\n",
              "      <th>DIS</th>\n",
              "      <th>RAD</th>\n",
              "      <th>TAX</th>\n",
              "      <th>PTRATIO</th>\n",
              "      <th>B</th>\n",
              "      <th>LSTAT</th>\n",
              "    </tr>\n",
              "  </thead>\n",
              "  <tbody>\n",
              "    <tr>\n",
              "      <th>0</th>\n",
              "      <td>Nahant</td>\n",
              "      <td>0</td>\n",
              "      <td>2011</td>\n",
              "      <td>-70.955</td>\n",
              "      <td>42.2550</td>\n",
              "      <td>24.0</td>\n",
              "      <td>24.0</td>\n",
              "      <td>0.00632</td>\n",
              "      <td>18.0</td>\n",
              "      <td>2.31</td>\n",
              "      <td>0</td>\n",
              "      <td>0.538</td>\n",
              "      <td>6.575</td>\n",
              "      <td>65.2</td>\n",
              "      <td>4.0900</td>\n",
              "      <td>1</td>\n",
              "      <td>296</td>\n",
              "      <td>15.3</td>\n",
              "      <td>396.90</td>\n",
              "      <td>4.98</td>\n",
              "    </tr>\n",
              "    <tr>\n",
              "      <th>1</th>\n",
              "      <td>Swampscott</td>\n",
              "      <td>1</td>\n",
              "      <td>2021</td>\n",
              "      <td>-70.950</td>\n",
              "      <td>42.2875</td>\n",
              "      <td>21.6</td>\n",
              "      <td>21.6</td>\n",
              "      <td>0.02731</td>\n",
              "      <td>0.0</td>\n",
              "      <td>7.07</td>\n",
              "      <td>0</td>\n",
              "      <td>0.469</td>\n",
              "      <td>6.421</td>\n",
              "      <td>78.9</td>\n",
              "      <td>4.9671</td>\n",
              "      <td>2</td>\n",
              "      <td>242</td>\n",
              "      <td>17.8</td>\n",
              "      <td>396.90</td>\n",
              "      <td>9.14</td>\n",
              "    </tr>\n",
              "    <tr>\n",
              "      <th>2</th>\n",
              "      <td>Swampscott</td>\n",
              "      <td>1</td>\n",
              "      <td>2022</td>\n",
              "      <td>-70.936</td>\n",
              "      <td>42.2830</td>\n",
              "      <td>34.7</td>\n",
              "      <td>34.7</td>\n",
              "      <td>0.02729</td>\n",
              "      <td>0.0</td>\n",
              "      <td>7.07</td>\n",
              "      <td>0</td>\n",
              "      <td>0.469</td>\n",
              "      <td>7.185</td>\n",
              "      <td>61.1</td>\n",
              "      <td>4.9671</td>\n",
              "      <td>2</td>\n",
              "      <td>242</td>\n",
              "      <td>17.8</td>\n",
              "      <td>392.83</td>\n",
              "      <td>4.03</td>\n",
              "    </tr>\n",
              "    <tr>\n",
              "      <th>3</th>\n",
              "      <td>Marblehead</td>\n",
              "      <td>2</td>\n",
              "      <td>2031</td>\n",
              "      <td>-70.928</td>\n",
              "      <td>42.2930</td>\n",
              "      <td>33.4</td>\n",
              "      <td>33.4</td>\n",
              "      <td>0.03237</td>\n",
              "      <td>0.0</td>\n",
              "      <td>2.18</td>\n",
              "      <td>0</td>\n",
              "      <td>0.458</td>\n",
              "      <td>6.998</td>\n",
              "      <td>45.8</td>\n",
              "      <td>6.0622</td>\n",
              "      <td>3</td>\n",
              "      <td>222</td>\n",
              "      <td>18.7</td>\n",
              "      <td>394.63</td>\n",
              "      <td>2.94</td>\n",
              "    </tr>\n",
              "    <tr>\n",
              "      <th>4</th>\n",
              "      <td>Marblehead</td>\n",
              "      <td>2</td>\n",
              "      <td>2032</td>\n",
              "      <td>-70.922</td>\n",
              "      <td>42.2980</td>\n",
              "      <td>36.2</td>\n",
              "      <td>36.2</td>\n",
              "      <td>0.06905</td>\n",
              "      <td>0.0</td>\n",
              "      <td>2.18</td>\n",
              "      <td>0</td>\n",
              "      <td>0.458</td>\n",
              "      <td>7.147</td>\n",
              "      <td>54.2</td>\n",
              "      <td>6.0622</td>\n",
              "      <td>3</td>\n",
              "      <td>222</td>\n",
              "      <td>18.7</td>\n",
              "      <td>396.90</td>\n",
              "      <td>5.33</td>\n",
              "    </tr>\n",
              "  </tbody>\n",
              "</table>\n",
              "</div>"
            ],
            "text/plain": [
              "         TOWN  TOWNNO  TRACT     LON      LAT  ...  RAD  TAX  PTRATIO       B  LSTAT\n",
              "0      Nahant       0   2011 -70.955  42.2550  ...    1  296     15.3  396.90   4.98\n",
              "1  Swampscott       1   2021 -70.950  42.2875  ...    2  242     17.8  396.90   9.14\n",
              "2  Swampscott       1   2022 -70.936  42.2830  ...    2  242     17.8  392.83   4.03\n",
              "3  Marblehead       2   2031 -70.928  42.2930  ...    3  222     18.7  394.63   2.94\n",
              "4  Marblehead       2   2032 -70.922  42.2980  ...    3  222     18.7  396.90   5.33\n",
              "\n",
              "[5 rows x 20 columns]"
            ]
          },
          "metadata": {
            "tags": []
          },
          "execution_count": 6
        }
      ]
    },
    {
      "cell_type": "code",
      "metadata": {
        "colab": {
          "base_uri": "https://localhost:8080/"
        },
        "id": "3ct-JlLAi88Y",
        "outputId": "6ebedf9b-6458-41e6-9082-769a7621e9ae"
      },
      "source": [
        "boston.isnull().sum()"
      ],
      "execution_count": null,
      "outputs": [
        {
          "output_type": "execute_result",
          "data": {
            "text/plain": [
              "TOWN       0\n",
              "TOWNNO     0\n",
              "TRACT      0\n",
              "LON        0\n",
              "LAT        0\n",
              "MEDV       0\n",
              "CMEDV      0\n",
              "CRIM       0\n",
              "ZN         0\n",
              "INDUS      0\n",
              "CHAS       0\n",
              "NOX        0\n",
              "RM         0\n",
              "AGE        0\n",
              "DIS        0\n",
              "RAD        0\n",
              "TAX        0\n",
              "PTRATIO    0\n",
              "B          0\n",
              "LSTAT      0\n",
              "dtype: int64"
            ]
          },
          "metadata": {
            "tags": []
          },
          "execution_count": 7
        }
      ]
    },
    {
      "cell_type": "code",
      "metadata": {
        "colab": {
          "base_uri": "https://localhost:8080/",
          "height": 317
        },
        "id": "BD6U01eU3Ygv",
        "outputId": "f5fb6360-ecb5-4ca4-f11e-d7dcee963203"
      },
      "source": [
        "boston.describe()"
      ],
      "execution_count": null,
      "outputs": [
        {
          "output_type": "execute_result",
          "data": {
            "text/html": [
              "<div>\n",
              "<style scoped>\n",
              "    .dataframe tbody tr th:only-of-type {\n",
              "        vertical-align: middle;\n",
              "    }\n",
              "\n",
              "    .dataframe tbody tr th {\n",
              "        vertical-align: top;\n",
              "    }\n",
              "\n",
              "    .dataframe thead th {\n",
              "        text-align: right;\n",
              "    }\n",
              "</style>\n",
              "<table border=\"1\" class=\"dataframe\">\n",
              "  <thead>\n",
              "    <tr style=\"text-align: right;\">\n",
              "      <th></th>\n",
              "      <th>TOWNNO</th>\n",
              "      <th>TRACT</th>\n",
              "      <th>LON</th>\n",
              "      <th>LAT</th>\n",
              "      <th>MEDV</th>\n",
              "      <th>CMEDV</th>\n",
              "      <th>CRIM</th>\n",
              "      <th>ZN</th>\n",
              "      <th>INDUS</th>\n",
              "      <th>CHAS</th>\n",
              "      <th>NOX</th>\n",
              "      <th>RM</th>\n",
              "      <th>AGE</th>\n",
              "      <th>DIS</th>\n",
              "      <th>RAD</th>\n",
              "      <th>TAX</th>\n",
              "      <th>PTRATIO</th>\n",
              "      <th>B</th>\n",
              "      <th>LSTAT</th>\n",
              "    </tr>\n",
              "  </thead>\n",
              "  <tbody>\n",
              "    <tr>\n",
              "      <th>count</th>\n",
              "      <td>506.000000</td>\n",
              "      <td>506.000000</td>\n",
              "      <td>506.000000</td>\n",
              "      <td>506.000000</td>\n",
              "      <td>506.000000</td>\n",
              "      <td>506.000000</td>\n",
              "      <td>506.000000</td>\n",
              "      <td>506.000000</td>\n",
              "      <td>506.000000</td>\n",
              "      <td>506.000000</td>\n",
              "      <td>506.000000</td>\n",
              "      <td>506.000000</td>\n",
              "      <td>506.000000</td>\n",
              "      <td>506.000000</td>\n",
              "      <td>506.000000</td>\n",
              "      <td>506.000000</td>\n",
              "      <td>506.000000</td>\n",
              "      <td>506.000000</td>\n",
              "      <td>506.000000</td>\n",
              "    </tr>\n",
              "    <tr>\n",
              "      <th>mean</th>\n",
              "      <td>47.531621</td>\n",
              "      <td>2700.357708</td>\n",
              "      <td>-71.056389</td>\n",
              "      <td>42.216440</td>\n",
              "      <td>22.532806</td>\n",
              "      <td>22.528854</td>\n",
              "      <td>3.613524</td>\n",
              "      <td>11.363636</td>\n",
              "      <td>11.136779</td>\n",
              "      <td>0.069170</td>\n",
              "      <td>0.554695</td>\n",
              "      <td>6.284634</td>\n",
              "      <td>68.574901</td>\n",
              "      <td>3.795043</td>\n",
              "      <td>9.549407</td>\n",
              "      <td>408.237154</td>\n",
              "      <td>18.455534</td>\n",
              "      <td>356.674032</td>\n",
              "      <td>12.653063</td>\n",
              "    </tr>\n",
              "    <tr>\n",
              "      <th>std</th>\n",
              "      <td>27.571401</td>\n",
              "      <td>1380.038110</td>\n",
              "      <td>0.075405</td>\n",
              "      <td>0.061777</td>\n",
              "      <td>9.197104</td>\n",
              "      <td>9.182176</td>\n",
              "      <td>8.601545</td>\n",
              "      <td>23.322453</td>\n",
              "      <td>6.860353</td>\n",
              "      <td>0.253994</td>\n",
              "      <td>0.115878</td>\n",
              "      <td>0.702617</td>\n",
              "      <td>28.148861</td>\n",
              "      <td>2.105710</td>\n",
              "      <td>8.707259</td>\n",
              "      <td>168.537116</td>\n",
              "      <td>2.164946</td>\n",
              "      <td>91.294864</td>\n",
              "      <td>7.141062</td>\n",
              "    </tr>\n",
              "    <tr>\n",
              "      <th>min</th>\n",
              "      <td>0.000000</td>\n",
              "      <td>1.000000</td>\n",
              "      <td>-71.289500</td>\n",
              "      <td>42.030000</td>\n",
              "      <td>5.000000</td>\n",
              "      <td>5.000000</td>\n",
              "      <td>0.006320</td>\n",
              "      <td>0.000000</td>\n",
              "      <td>0.460000</td>\n",
              "      <td>0.000000</td>\n",
              "      <td>0.385000</td>\n",
              "      <td>3.561000</td>\n",
              "      <td>2.900000</td>\n",
              "      <td>1.129600</td>\n",
              "      <td>1.000000</td>\n",
              "      <td>187.000000</td>\n",
              "      <td>12.600000</td>\n",
              "      <td>0.320000</td>\n",
              "      <td>1.730000</td>\n",
              "    </tr>\n",
              "    <tr>\n",
              "      <th>25%</th>\n",
              "      <td>26.250000</td>\n",
              "      <td>1303.250000</td>\n",
              "      <td>-71.093225</td>\n",
              "      <td>42.180775</td>\n",
              "      <td>17.025000</td>\n",
              "      <td>17.025000</td>\n",
              "      <td>0.082045</td>\n",
              "      <td>0.000000</td>\n",
              "      <td>5.190000</td>\n",
              "      <td>0.000000</td>\n",
              "      <td>0.449000</td>\n",
              "      <td>5.885500</td>\n",
              "      <td>45.025000</td>\n",
              "      <td>2.100175</td>\n",
              "      <td>4.000000</td>\n",
              "      <td>279.000000</td>\n",
              "      <td>17.400000</td>\n",
              "      <td>375.377500</td>\n",
              "      <td>6.950000</td>\n",
              "    </tr>\n",
              "    <tr>\n",
              "      <th>50%</th>\n",
              "      <td>42.000000</td>\n",
              "      <td>3393.500000</td>\n",
              "      <td>-71.052900</td>\n",
              "      <td>42.218100</td>\n",
              "      <td>21.200000</td>\n",
              "      <td>21.200000</td>\n",
              "      <td>0.256510</td>\n",
              "      <td>0.000000</td>\n",
              "      <td>9.690000</td>\n",
              "      <td>0.000000</td>\n",
              "      <td>0.538000</td>\n",
              "      <td>6.208500</td>\n",
              "      <td>77.500000</td>\n",
              "      <td>3.207450</td>\n",
              "      <td>5.000000</td>\n",
              "      <td>330.000000</td>\n",
              "      <td>19.050000</td>\n",
              "      <td>391.440000</td>\n",
              "      <td>11.360000</td>\n",
              "    </tr>\n",
              "    <tr>\n",
              "      <th>75%</th>\n",
              "      <td>78.000000</td>\n",
              "      <td>3739.750000</td>\n",
              "      <td>-71.019625</td>\n",
              "      <td>42.252250</td>\n",
              "      <td>25.000000</td>\n",
              "      <td>25.000000</td>\n",
              "      <td>3.677082</td>\n",
              "      <td>12.500000</td>\n",
              "      <td>18.100000</td>\n",
              "      <td>0.000000</td>\n",
              "      <td>0.624000</td>\n",
              "      <td>6.623500</td>\n",
              "      <td>94.075000</td>\n",
              "      <td>5.188425</td>\n",
              "      <td>24.000000</td>\n",
              "      <td>666.000000</td>\n",
              "      <td>20.200000</td>\n",
              "      <td>396.225000</td>\n",
              "      <td>16.955000</td>\n",
              "    </tr>\n",
              "    <tr>\n",
              "      <th>max</th>\n",
              "      <td>91.000000</td>\n",
              "      <td>5082.000000</td>\n",
              "      <td>-70.810000</td>\n",
              "      <td>42.381000</td>\n",
              "      <td>50.000000</td>\n",
              "      <td>50.000000</td>\n",
              "      <td>88.976200</td>\n",
              "      <td>100.000000</td>\n",
              "      <td>27.740000</td>\n",
              "      <td>1.000000</td>\n",
              "      <td>0.871000</td>\n",
              "      <td>8.780000</td>\n",
              "      <td>100.000000</td>\n",
              "      <td>12.126500</td>\n",
              "      <td>24.000000</td>\n",
              "      <td>711.000000</td>\n",
              "      <td>22.000000</td>\n",
              "      <td>396.900000</td>\n",
              "      <td>37.970000</td>\n",
              "    </tr>\n",
              "  </tbody>\n",
              "</table>\n",
              "</div>"
            ],
            "text/plain": [
              "           TOWNNO        TRACT         LON  ...     PTRATIO           B       LSTAT\n",
              "count  506.000000   506.000000  506.000000  ...  506.000000  506.000000  506.000000\n",
              "mean    47.531621  2700.357708  -71.056389  ...   18.455534  356.674032   12.653063\n",
              "std     27.571401  1380.038110    0.075405  ...    2.164946   91.294864    7.141062\n",
              "min      0.000000     1.000000  -71.289500  ...   12.600000    0.320000    1.730000\n",
              "25%     26.250000  1303.250000  -71.093225  ...   17.400000  375.377500    6.950000\n",
              "50%     42.000000  3393.500000  -71.052900  ...   19.050000  391.440000   11.360000\n",
              "75%     78.000000  3739.750000  -71.019625  ...   20.200000  396.225000   16.955000\n",
              "max     91.000000  5082.000000  -70.810000  ...   22.000000  396.900000   37.970000\n",
              "\n",
              "[8 rows x 19 columns]"
            ]
          },
          "metadata": {
            "tags": []
          },
          "execution_count": 8
        }
      ]
    },
    {
      "cell_type": "markdown",
      "metadata": {
        "id": "UdsvHEiYXMx3"
      },
      "source": [
        "### 3. Identifying features & target "
      ]
    },
    {
      "cell_type": "code",
      "metadata": {
        "id": "WNk3ti6XbZae",
        "colab": {
          "base_uri": "https://localhost:8080/",
          "height": 224
        },
        "outputId": "885ebc2d-7359-46ae-8715-0ef9c8dd7958"
      },
      "source": [
        "y = boston['CMEDV']\r\n",
        "data = boston.drop(columns = ['MEDV','CMEDV','TOWN'])\r\n",
        "X = data\r\n",
        "# we don't need the town variable since we have the town number\r\n",
        "# MEDV must not be included in the features because it's highly correlated with our target (since it has the values of the target before correction )\r\n",
        "data['Price']=y\r\n",
        "data.head()"
      ],
      "execution_count": null,
      "outputs": [
        {
          "output_type": "execute_result",
          "data": {
            "text/html": [
              "<div>\n",
              "<style scoped>\n",
              "    .dataframe tbody tr th:only-of-type {\n",
              "        vertical-align: middle;\n",
              "    }\n",
              "\n",
              "    .dataframe tbody tr th {\n",
              "        vertical-align: top;\n",
              "    }\n",
              "\n",
              "    .dataframe thead th {\n",
              "        text-align: right;\n",
              "    }\n",
              "</style>\n",
              "<table border=\"1\" class=\"dataframe\">\n",
              "  <thead>\n",
              "    <tr style=\"text-align: right;\">\n",
              "      <th></th>\n",
              "      <th>TOWNNO</th>\n",
              "      <th>TRACT</th>\n",
              "      <th>LON</th>\n",
              "      <th>LAT</th>\n",
              "      <th>CRIM</th>\n",
              "      <th>ZN</th>\n",
              "      <th>INDUS</th>\n",
              "      <th>CHAS</th>\n",
              "      <th>NOX</th>\n",
              "      <th>RM</th>\n",
              "      <th>AGE</th>\n",
              "      <th>DIS</th>\n",
              "      <th>RAD</th>\n",
              "      <th>TAX</th>\n",
              "      <th>PTRATIO</th>\n",
              "      <th>B</th>\n",
              "      <th>LSTAT</th>\n",
              "      <th>Price</th>\n",
              "    </tr>\n",
              "  </thead>\n",
              "  <tbody>\n",
              "    <tr>\n",
              "      <th>0</th>\n",
              "      <td>0</td>\n",
              "      <td>2011</td>\n",
              "      <td>-70.955</td>\n",
              "      <td>42.2550</td>\n",
              "      <td>0.00632</td>\n",
              "      <td>18.0</td>\n",
              "      <td>2.31</td>\n",
              "      <td>0</td>\n",
              "      <td>0.538</td>\n",
              "      <td>6.575</td>\n",
              "      <td>65.2</td>\n",
              "      <td>4.0900</td>\n",
              "      <td>1</td>\n",
              "      <td>296</td>\n",
              "      <td>15.3</td>\n",
              "      <td>396.90</td>\n",
              "      <td>4.98</td>\n",
              "      <td>24.0</td>\n",
              "    </tr>\n",
              "    <tr>\n",
              "      <th>1</th>\n",
              "      <td>1</td>\n",
              "      <td>2021</td>\n",
              "      <td>-70.950</td>\n",
              "      <td>42.2875</td>\n",
              "      <td>0.02731</td>\n",
              "      <td>0.0</td>\n",
              "      <td>7.07</td>\n",
              "      <td>0</td>\n",
              "      <td>0.469</td>\n",
              "      <td>6.421</td>\n",
              "      <td>78.9</td>\n",
              "      <td>4.9671</td>\n",
              "      <td>2</td>\n",
              "      <td>242</td>\n",
              "      <td>17.8</td>\n",
              "      <td>396.90</td>\n",
              "      <td>9.14</td>\n",
              "      <td>21.6</td>\n",
              "    </tr>\n",
              "    <tr>\n",
              "      <th>2</th>\n",
              "      <td>1</td>\n",
              "      <td>2022</td>\n",
              "      <td>-70.936</td>\n",
              "      <td>42.2830</td>\n",
              "      <td>0.02729</td>\n",
              "      <td>0.0</td>\n",
              "      <td>7.07</td>\n",
              "      <td>0</td>\n",
              "      <td>0.469</td>\n",
              "      <td>7.185</td>\n",
              "      <td>61.1</td>\n",
              "      <td>4.9671</td>\n",
              "      <td>2</td>\n",
              "      <td>242</td>\n",
              "      <td>17.8</td>\n",
              "      <td>392.83</td>\n",
              "      <td>4.03</td>\n",
              "      <td>34.7</td>\n",
              "    </tr>\n",
              "    <tr>\n",
              "      <th>3</th>\n",
              "      <td>2</td>\n",
              "      <td>2031</td>\n",
              "      <td>-70.928</td>\n",
              "      <td>42.2930</td>\n",
              "      <td>0.03237</td>\n",
              "      <td>0.0</td>\n",
              "      <td>2.18</td>\n",
              "      <td>0</td>\n",
              "      <td>0.458</td>\n",
              "      <td>6.998</td>\n",
              "      <td>45.8</td>\n",
              "      <td>6.0622</td>\n",
              "      <td>3</td>\n",
              "      <td>222</td>\n",
              "      <td>18.7</td>\n",
              "      <td>394.63</td>\n",
              "      <td>2.94</td>\n",
              "      <td>33.4</td>\n",
              "    </tr>\n",
              "    <tr>\n",
              "      <th>4</th>\n",
              "      <td>2</td>\n",
              "      <td>2032</td>\n",
              "      <td>-70.922</td>\n",
              "      <td>42.2980</td>\n",
              "      <td>0.06905</td>\n",
              "      <td>0.0</td>\n",
              "      <td>2.18</td>\n",
              "      <td>0</td>\n",
              "      <td>0.458</td>\n",
              "      <td>7.147</td>\n",
              "      <td>54.2</td>\n",
              "      <td>6.0622</td>\n",
              "      <td>3</td>\n",
              "      <td>222</td>\n",
              "      <td>18.7</td>\n",
              "      <td>396.90</td>\n",
              "      <td>5.33</td>\n",
              "      <td>36.2</td>\n",
              "    </tr>\n",
              "  </tbody>\n",
              "</table>\n",
              "</div>"
            ],
            "text/plain": [
              "   TOWNNO  TRACT     LON      LAT     CRIM  ...  TAX  PTRATIO       B  LSTAT  Price\n",
              "0       0   2011 -70.955  42.2550  0.00632  ...  296     15.3  396.90   4.98   24.0\n",
              "1       1   2021 -70.950  42.2875  0.02731  ...  242     17.8  396.90   9.14   21.6\n",
              "2       1   2022 -70.936  42.2830  0.02729  ...  242     17.8  392.83   4.03   34.7\n",
              "3       2   2031 -70.928  42.2930  0.03237  ...  222     18.7  394.63   2.94   33.4\n",
              "4       2   2032 -70.922  42.2980  0.06905  ...  222     18.7  396.90   5.33   36.2\n",
              "\n",
              "[5 rows x 18 columns]"
            ]
          },
          "metadata": {
            "tags": []
          },
          "execution_count": 9
        }
      ]
    },
    {
      "cell_type": "markdown",
      "metadata": {
        "id": "Ks2YreWX2dk3"
      },
      "source": [
        "### 4. Discovering correlated variables"
      ]
    },
    {
      "cell_type": "markdown",
      "metadata": {
        "id": "byCvcIb62z2F"
      },
      "source": [
        "#### Creating the correlation matrix"
      ]
    },
    {
      "cell_type": "code",
      "metadata": {
        "id": "nhcKbfB5AkS4",
        "colab": {
          "base_uri": "https://localhost:8080/",
          "height": 627
        },
        "outputId": "88609dcc-f23f-4d86-a4c1-71a6da1d0d48"
      },
      "source": [
        "corrmat = data.corr()\r\n",
        "corrmat"
      ],
      "execution_count": null,
      "outputs": [
        {
          "output_type": "execute_result",
          "data": {
            "text/html": [
              "<div>\n",
              "<style scoped>\n",
              "    .dataframe tbody tr th:only-of-type {\n",
              "        vertical-align: middle;\n",
              "    }\n",
              "\n",
              "    .dataframe tbody tr th {\n",
              "        vertical-align: top;\n",
              "    }\n",
              "\n",
              "    .dataframe thead th {\n",
              "        text-align: right;\n",
              "    }\n",
              "</style>\n",
              "<table border=\"1\" class=\"dataframe\">\n",
              "  <thead>\n",
              "    <tr style=\"text-align: right;\">\n",
              "      <th></th>\n",
              "      <th>TOWNNO</th>\n",
              "      <th>TRACT</th>\n",
              "      <th>LON</th>\n",
              "      <th>LAT</th>\n",
              "      <th>CRIM</th>\n",
              "      <th>ZN</th>\n",
              "      <th>INDUS</th>\n",
              "      <th>CHAS</th>\n",
              "      <th>NOX</th>\n",
              "      <th>RM</th>\n",
              "      <th>AGE</th>\n",
              "      <th>DIS</th>\n",
              "      <th>RAD</th>\n",
              "      <th>TAX</th>\n",
              "      <th>PTRATIO</th>\n",
              "      <th>B</th>\n",
              "      <th>LSTAT</th>\n",
              "      <th>Price</th>\n",
              "    </tr>\n",
              "  </thead>\n",
              "  <tbody>\n",
              "    <tr>\n",
              "      <th>TOWNNO</th>\n",
              "      <td>1.000000</td>\n",
              "      <td>-0.455757</td>\n",
              "      <td>-0.000627</td>\n",
              "      <td>-0.631648</td>\n",
              "      <td>0.447920</td>\n",
              "      <td>-0.123970</td>\n",
              "      <td>0.434426</td>\n",
              "      <td>-0.009220</td>\n",
              "      <td>0.429399</td>\n",
              "      <td>-0.117334</td>\n",
              "      <td>0.235141</td>\n",
              "      <td>-0.327280</td>\n",
              "      <td>0.724060</td>\n",
              "      <td>0.707982</td>\n",
              "      <td>0.341111</td>\n",
              "      <td>-0.306517</td>\n",
              "      <td>0.296600</td>\n",
              "      <td>-0.265134</td>\n",
              "    </tr>\n",
              "    <tr>\n",
              "      <th>TRACT</th>\n",
              "      <td>-0.455757</td>\n",
              "      <td>1.000000</td>\n",
              "      <td>-0.220892</td>\n",
              "      <td>-0.225541</td>\n",
              "      <td>-0.547165</td>\n",
              "      <td>0.367294</td>\n",
              "      <td>-0.575706</td>\n",
              "      <td>0.041356</td>\n",
              "      <td>-0.569808</td>\n",
              "      <td>0.305207</td>\n",
              "      <td>-0.487467</td>\n",
              "      <td>0.496842</td>\n",
              "      <td>-0.828830</td>\n",
              "      <td>-0.793603</td>\n",
              "      <td>-0.532679</td>\n",
              "      <td>0.365047</td>\n",
              "      <td>-0.522486</td>\n",
              "      <td>0.428252</td>\n",
              "    </tr>\n",
              "    <tr>\n",
              "      <th>LON</th>\n",
              "      <td>-0.000627</td>\n",
              "      <td>-0.220892</td>\n",
              "      <td>1.000000</td>\n",
              "      <td>0.143054</td>\n",
              "      <td>0.065101</td>\n",
              "      <td>-0.218081</td>\n",
              "      <td>0.062702</td>\n",
              "      <td>-0.175619</td>\n",
              "      <td>0.160871</td>\n",
              "      <td>-0.257110</td>\n",
              "      <td>0.204739</td>\n",
              "      <td>-0.011243</td>\n",
              "      <td>0.034067</td>\n",
              "      <td>0.050663</td>\n",
              "      <td>0.312602</td>\n",
              "      <td>-0.018300</td>\n",
              "      <td>0.195630</td>\n",
              "      <td>-0.322947</td>\n",
              "    </tr>\n",
              "    <tr>\n",
              "      <th>LAT</th>\n",
              "      <td>-0.631648</td>\n",
              "      <td>-0.225541</td>\n",
              "      <td>0.143054</td>\n",
              "      <td>1.000000</td>\n",
              "      <td>-0.084293</td>\n",
              "      <td>-0.129667</td>\n",
              "      <td>-0.041093</td>\n",
              "      <td>-0.044726</td>\n",
              "      <td>-0.068600</td>\n",
              "      <td>-0.069317</td>\n",
              "      <td>0.079035</td>\n",
              "      <td>-0.082981</td>\n",
              "      <td>-0.207013</td>\n",
              "      <td>-0.167718</td>\n",
              "      <td>-0.004527</td>\n",
              "      <td>0.105254</td>\n",
              "      <td>0.045660</td>\n",
              "      <td>0.006826</td>\n",
              "    </tr>\n",
              "    <tr>\n",
              "      <th>CRIM</th>\n",
              "      <td>0.447920</td>\n",
              "      <td>-0.547165</td>\n",
              "      <td>0.065101</td>\n",
              "      <td>-0.084293</td>\n",
              "      <td>1.000000</td>\n",
              "      <td>-0.200469</td>\n",
              "      <td>0.406583</td>\n",
              "      <td>-0.055892</td>\n",
              "      <td>0.420972</td>\n",
              "      <td>-0.219247</td>\n",
              "      <td>0.352734</td>\n",
              "      <td>-0.379670</td>\n",
              "      <td>0.625505</td>\n",
              "      <td>0.582764</td>\n",
              "      <td>0.289946</td>\n",
              "      <td>-0.385064</td>\n",
              "      <td>0.455621</td>\n",
              "      <td>-0.389582</td>\n",
              "    </tr>\n",
              "    <tr>\n",
              "      <th>ZN</th>\n",
              "      <td>-0.123970</td>\n",
              "      <td>0.367294</td>\n",
              "      <td>-0.218081</td>\n",
              "      <td>-0.129667</td>\n",
              "      <td>-0.200469</td>\n",
              "      <td>1.000000</td>\n",
              "      <td>-0.533828</td>\n",
              "      <td>-0.042697</td>\n",
              "      <td>-0.516604</td>\n",
              "      <td>0.311991</td>\n",
              "      <td>-0.569537</td>\n",
              "      <td>0.664408</td>\n",
              "      <td>-0.311948</td>\n",
              "      <td>-0.314563</td>\n",
              "      <td>-0.391679</td>\n",
              "      <td>0.175520</td>\n",
              "      <td>-0.412995</td>\n",
              "      <td>0.360386</td>\n",
              "    </tr>\n",
              "    <tr>\n",
              "      <th>INDUS</th>\n",
              "      <td>0.434426</td>\n",
              "      <td>-0.575706</td>\n",
              "      <td>0.062702</td>\n",
              "      <td>-0.041093</td>\n",
              "      <td>0.406583</td>\n",
              "      <td>-0.533828</td>\n",
              "      <td>1.000000</td>\n",
              "      <td>0.062938</td>\n",
              "      <td>0.763651</td>\n",
              "      <td>-0.391676</td>\n",
              "      <td>0.644779</td>\n",
              "      <td>-0.708027</td>\n",
              "      <td>0.595129</td>\n",
              "      <td>0.720760</td>\n",
              "      <td>0.383248</td>\n",
              "      <td>-0.356977</td>\n",
              "      <td>0.603800</td>\n",
              "      <td>-0.484754</td>\n",
              "    </tr>\n",
              "    <tr>\n",
              "      <th>CHAS</th>\n",
              "      <td>-0.009220</td>\n",
              "      <td>0.041356</td>\n",
              "      <td>-0.175619</td>\n",
              "      <td>-0.044726</td>\n",
              "      <td>-0.055892</td>\n",
              "      <td>-0.042697</td>\n",
              "      <td>0.062938</td>\n",
              "      <td>1.000000</td>\n",
              "      <td>0.091203</td>\n",
              "      <td>0.091251</td>\n",
              "      <td>0.086518</td>\n",
              "      <td>-0.099176</td>\n",
              "      <td>-0.007368</td>\n",
              "      <td>-0.035587</td>\n",
              "      <td>-0.121515</td>\n",
              "      <td>0.048788</td>\n",
              "      <td>-0.053929</td>\n",
              "      <td>0.175663</td>\n",
              "    </tr>\n",
              "    <tr>\n",
              "      <th>NOX</th>\n",
              "      <td>0.429399</td>\n",
              "      <td>-0.569808</td>\n",
              "      <td>0.160871</td>\n",
              "      <td>-0.068600</td>\n",
              "      <td>0.420972</td>\n",
              "      <td>-0.516604</td>\n",
              "      <td>0.763651</td>\n",
              "      <td>0.091203</td>\n",
              "      <td>1.000000</td>\n",
              "      <td>-0.302188</td>\n",
              "      <td>0.731470</td>\n",
              "      <td>-0.769230</td>\n",
              "      <td>0.611441</td>\n",
              "      <td>0.668023</td>\n",
              "      <td>0.188933</td>\n",
              "      <td>-0.380051</td>\n",
              "      <td>0.590879</td>\n",
              "      <td>-0.429300</td>\n",
              "    </tr>\n",
              "    <tr>\n",
              "      <th>RM</th>\n",
              "      <td>-0.117334</td>\n",
              "      <td>0.305207</td>\n",
              "      <td>-0.257110</td>\n",
              "      <td>-0.069317</td>\n",
              "      <td>-0.219247</td>\n",
              "      <td>0.311991</td>\n",
              "      <td>-0.391676</td>\n",
              "      <td>0.091251</td>\n",
              "      <td>-0.302188</td>\n",
              "      <td>1.000000</td>\n",
              "      <td>-0.240265</td>\n",
              "      <td>0.205246</td>\n",
              "      <td>-0.209847</td>\n",
              "      <td>-0.292048</td>\n",
              "      <td>-0.355501</td>\n",
              "      <td>0.128069</td>\n",
              "      <td>-0.613808</td>\n",
              "      <td>0.696304</td>\n",
              "    </tr>\n",
              "    <tr>\n",
              "      <th>AGE</th>\n",
              "      <td>0.235141</td>\n",
              "      <td>-0.487467</td>\n",
              "      <td>0.204739</td>\n",
              "      <td>0.079035</td>\n",
              "      <td>0.352734</td>\n",
              "      <td>-0.569537</td>\n",
              "      <td>0.644779</td>\n",
              "      <td>0.086518</td>\n",
              "      <td>0.731470</td>\n",
              "      <td>-0.240265</td>\n",
              "      <td>1.000000</td>\n",
              "      <td>-0.747881</td>\n",
              "      <td>0.456022</td>\n",
              "      <td>0.506456</td>\n",
              "      <td>0.261515</td>\n",
              "      <td>-0.273534</td>\n",
              "      <td>0.602339</td>\n",
              "      <td>-0.377999</td>\n",
              "    </tr>\n",
              "    <tr>\n",
              "      <th>DIS</th>\n",
              "      <td>-0.327280</td>\n",
              "      <td>0.496842</td>\n",
              "      <td>-0.011243</td>\n",
              "      <td>-0.082981</td>\n",
              "      <td>-0.379670</td>\n",
              "      <td>0.664408</td>\n",
              "      <td>-0.708027</td>\n",
              "      <td>-0.099176</td>\n",
              "      <td>-0.769230</td>\n",
              "      <td>0.205246</td>\n",
              "      <td>-0.747881</td>\n",
              "      <td>1.000000</td>\n",
              "      <td>-0.494588</td>\n",
              "      <td>-0.534432</td>\n",
              "      <td>-0.232471</td>\n",
              "      <td>0.291512</td>\n",
              "      <td>-0.496996</td>\n",
              "      <td>0.249315</td>\n",
              "    </tr>\n",
              "    <tr>\n",
              "      <th>RAD</th>\n",
              "      <td>0.724060</td>\n",
              "      <td>-0.828830</td>\n",
              "      <td>0.034067</td>\n",
              "      <td>-0.207013</td>\n",
              "      <td>0.625505</td>\n",
              "      <td>-0.311948</td>\n",
              "      <td>0.595129</td>\n",
              "      <td>-0.007368</td>\n",
              "      <td>0.611441</td>\n",
              "      <td>-0.209847</td>\n",
              "      <td>0.456022</td>\n",
              "      <td>-0.494588</td>\n",
              "      <td>1.000000</td>\n",
              "      <td>0.910228</td>\n",
              "      <td>0.464741</td>\n",
              "      <td>-0.444413</td>\n",
              "      <td>0.488676</td>\n",
              "      <td>-0.384766</td>\n",
              "    </tr>\n",
              "    <tr>\n",
              "      <th>TAX</th>\n",
              "      <td>0.707982</td>\n",
              "      <td>-0.793603</td>\n",
              "      <td>0.050663</td>\n",
              "      <td>-0.167718</td>\n",
              "      <td>0.582764</td>\n",
              "      <td>-0.314563</td>\n",
              "      <td>0.720760</td>\n",
              "      <td>-0.035587</td>\n",
              "      <td>0.668023</td>\n",
              "      <td>-0.292048</td>\n",
              "      <td>0.506456</td>\n",
              "      <td>-0.534432</td>\n",
              "      <td>0.910228</td>\n",
              "      <td>1.000000</td>\n",
              "      <td>0.460853</td>\n",
              "      <td>-0.441808</td>\n",
              "      <td>0.543993</td>\n",
              "      <td>-0.471979</td>\n",
              "    </tr>\n",
              "    <tr>\n",
              "      <th>PTRATIO</th>\n",
              "      <td>0.341111</td>\n",
              "      <td>-0.532679</td>\n",
              "      <td>0.312602</td>\n",
              "      <td>-0.004527</td>\n",
              "      <td>0.289946</td>\n",
              "      <td>-0.391679</td>\n",
              "      <td>0.383248</td>\n",
              "      <td>-0.121515</td>\n",
              "      <td>0.188933</td>\n",
              "      <td>-0.355501</td>\n",
              "      <td>0.261515</td>\n",
              "      <td>-0.232471</td>\n",
              "      <td>0.464741</td>\n",
              "      <td>0.460853</td>\n",
              "      <td>1.000000</td>\n",
              "      <td>-0.177383</td>\n",
              "      <td>0.374044</td>\n",
              "      <td>-0.505655</td>\n",
              "    </tr>\n",
              "    <tr>\n",
              "      <th>B</th>\n",
              "      <td>-0.306517</td>\n",
              "      <td>0.365047</td>\n",
              "      <td>-0.018300</td>\n",
              "      <td>0.105254</td>\n",
              "      <td>-0.385064</td>\n",
              "      <td>0.175520</td>\n",
              "      <td>-0.356977</td>\n",
              "      <td>0.048788</td>\n",
              "      <td>-0.380051</td>\n",
              "      <td>0.128069</td>\n",
              "      <td>-0.273534</td>\n",
              "      <td>0.291512</td>\n",
              "      <td>-0.444413</td>\n",
              "      <td>-0.441808</td>\n",
              "      <td>-0.177383</td>\n",
              "      <td>1.000000</td>\n",
              "      <td>-0.366087</td>\n",
              "      <td>0.334861</td>\n",
              "    </tr>\n",
              "    <tr>\n",
              "      <th>LSTAT</th>\n",
              "      <td>0.296600</td>\n",
              "      <td>-0.522486</td>\n",
              "      <td>0.195630</td>\n",
              "      <td>0.045660</td>\n",
              "      <td>0.455621</td>\n",
              "      <td>-0.412995</td>\n",
              "      <td>0.603800</td>\n",
              "      <td>-0.053929</td>\n",
              "      <td>0.590879</td>\n",
              "      <td>-0.613808</td>\n",
              "      <td>0.602339</td>\n",
              "      <td>-0.496996</td>\n",
              "      <td>0.488676</td>\n",
              "      <td>0.543993</td>\n",
              "      <td>0.374044</td>\n",
              "      <td>-0.366087</td>\n",
              "      <td>1.000000</td>\n",
              "      <td>-0.740836</td>\n",
              "    </tr>\n",
              "    <tr>\n",
              "      <th>Price</th>\n",
              "      <td>-0.265134</td>\n",
              "      <td>0.428252</td>\n",
              "      <td>-0.322947</td>\n",
              "      <td>0.006826</td>\n",
              "      <td>-0.389582</td>\n",
              "      <td>0.360386</td>\n",
              "      <td>-0.484754</td>\n",
              "      <td>0.175663</td>\n",
              "      <td>-0.429300</td>\n",
              "      <td>0.696304</td>\n",
              "      <td>-0.377999</td>\n",
              "      <td>0.249315</td>\n",
              "      <td>-0.384766</td>\n",
              "      <td>-0.471979</td>\n",
              "      <td>-0.505655</td>\n",
              "      <td>0.334861</td>\n",
              "      <td>-0.740836</td>\n",
              "      <td>1.000000</td>\n",
              "    </tr>\n",
              "  </tbody>\n",
              "</table>\n",
              "</div>"
            ],
            "text/plain": [
              "           TOWNNO     TRACT       LON  ...         B     LSTAT     Price\n",
              "TOWNNO   1.000000 -0.455757 -0.000627  ... -0.306517  0.296600 -0.265134\n",
              "TRACT   -0.455757  1.000000 -0.220892  ...  0.365047 -0.522486  0.428252\n",
              "LON     -0.000627 -0.220892  1.000000  ... -0.018300  0.195630 -0.322947\n",
              "LAT     -0.631648 -0.225541  0.143054  ...  0.105254  0.045660  0.006826\n",
              "CRIM     0.447920 -0.547165  0.065101  ... -0.385064  0.455621 -0.389582\n",
              "ZN      -0.123970  0.367294 -0.218081  ...  0.175520 -0.412995  0.360386\n",
              "INDUS    0.434426 -0.575706  0.062702  ... -0.356977  0.603800 -0.484754\n",
              "CHAS    -0.009220  0.041356 -0.175619  ...  0.048788 -0.053929  0.175663\n",
              "NOX      0.429399 -0.569808  0.160871  ... -0.380051  0.590879 -0.429300\n",
              "RM      -0.117334  0.305207 -0.257110  ...  0.128069 -0.613808  0.696304\n",
              "AGE      0.235141 -0.487467  0.204739  ... -0.273534  0.602339 -0.377999\n",
              "DIS     -0.327280  0.496842 -0.011243  ...  0.291512 -0.496996  0.249315\n",
              "RAD      0.724060 -0.828830  0.034067  ... -0.444413  0.488676 -0.384766\n",
              "TAX      0.707982 -0.793603  0.050663  ... -0.441808  0.543993 -0.471979\n",
              "PTRATIO  0.341111 -0.532679  0.312602  ... -0.177383  0.374044 -0.505655\n",
              "B       -0.306517  0.365047 -0.018300  ...  1.000000 -0.366087  0.334861\n",
              "LSTAT    0.296600 -0.522486  0.195630  ... -0.366087  1.000000 -0.740836\n",
              "Price   -0.265134  0.428252 -0.322947  ...  0.334861 -0.740836  1.000000\n",
              "\n",
              "[18 rows x 18 columns]"
            ]
          },
          "metadata": {
            "tags": []
          },
          "execution_count": 10
        }
      ]
    },
    {
      "cell_type": "markdown",
      "metadata": {
        "id": "Bq4fMq1H27V0"
      },
      "source": [
        "#### Visualizing the correlation matrix"
      ]
    },
    {
      "cell_type": "code",
      "metadata": {
        "id": "jltYAzTgAwq6",
        "colab": {
          "base_uri": "https://localhost:8080/",
          "height": 571
        },
        "outputId": "5d652836-1f6d-4131-aec0-a29f17fdc494"
      },
      "source": [
        "fig, ax = plt.subplots(figsize = (18, 10))\r\n",
        "sns.heatmap(corrmat, annot = True, annot_kws={'size': 12})\r\n",
        "plt.show()"
      ],
      "execution_count": null,
      "outputs": [
        {
          "output_type": "display_data",
          "data": {
            "image/png": "[encoded data removed]",
            "text/plain": [
              "<Figure size 1296x720 with 2 Axes>"
            ]
          },
          "metadata": {
            "tags": [],
            "needs_background": "light"
          }
        }
      ]
    },
    {
      "cell_type": "markdown",
      "metadata": {
        "id": "U4qIe3vFWIQN"
      },
      "source": [
        "#### Visualize linear correlations."
      ]
    },
    {
      "cell_type": "markdown",
      "metadata": {
        "id": "5NgTK3HnMg-l"
      },
      "source": [
        "###### Linear correlation between Price & INDUS"
      ]
    },
    {
      "cell_type": "code",
      "metadata": {
        "colab": {
          "base_uri": "https://localhost:8080/",
          "height": 383
        },
        "id": "tkYAdCjrnMEd",
        "outputId": "5331ad36-0009-456e-8bbb-faf9cd5f150b"
      },
      "source": [
        "sns.relplot(x=\"INDUS\", y=\"Price\",kind=\"line\", data=data.sort_values(by = 'Price', ascending=False));"
      ],
      "execution_count": null,
      "outputs": [
        {
          "output_type": "display_data",
          "data": {
            "image/png": "[encoded data removed]",
            "text/plain": [
              "<Figure size 360x360 with 1 Axes>"
            ]
          },
          "metadata": {
            "tags": [],
            "needs_background": "light"
          }
        }
      ]
    },
    {
      "cell_type": "markdown",
      "metadata": {
        "id": "BtTexNJq67Lg"
      },
      "source": [
        "###### Linear correlation between LSTAT & Price"
      ]
    },
    {
      "cell_type": "code",
      "metadata": {
        "colab": {
          "base_uri": "https://localhost:8080/",
          "height": 464
        },
        "id": "qSHwOpSX8Qpn",
        "outputId": "e66c8cad-462d-412c-ffd1-ecf4c75e08f1"
      },
      "source": [
        "ggplot(data, aes('LSTAT', 'Price')) + geom_point() + geom_smooth(span = 0.3)"
      ],
      "execution_count": null,
      "outputs": [
        {
          "output_type": "display_data",
          "data": {
            "image/png": "[encoded data removed]",
            "text/plain": [
              "<Figure size 640x480 with 1 Axes>"
            ]
          },
          "metadata": {
            "tags": []
          }
        },
        {
          "output_type": "execute_result",
          "data": {
            "text/plain": [
              "<ggplot: (-9223363299132990299)>"
            ]
          },
          "metadata": {
            "tags": []
          },
          "execution_count": 13
        }
      ]
    },
    {
      "cell_type": "markdown",
      "metadata": {
        "id": "S3lKKErg3qTe"
      },
      "source": [
        "###### Linear correlation between RAD & TRACT"
      ]
    },
    {
      "cell_type": "code",
      "metadata": {
        "colab": {
          "base_uri": "https://localhost:8080/",
          "height": 383
        },
        "id": "g5hVdJLPnPl4",
        "outputId": "bfd6db39-4d3c-4a61-a0a7-b9bb71cfddbf"
      },
      "source": [
        "sns.relplot(x=\"RAD\", y=\"TRACT\",kind=\"line\", data=data.sort_values(by = 'Price', ascending=False));"
      ],
      "execution_count": null,
      "outputs": [
        {
          "output_type": "display_data",
          "data": {
            "image/png": "[encoded data removed]",
            "text/plain": [
              "<Figure size 360x360 with 1 Axes>"
            ]
          },
          "metadata": {
            "tags": [],
            "needs_background": "light"
          }
        }
      ]
    },
    {
      "cell_type": "markdown",
      "metadata": {
        "id": "VR-AhjVS-FM0"
      },
      "source": [
        "###### Linear correlation between RM & Price\r\n",
        "\r\n",
        " "
      ]
    },
    {
      "cell_type": "code",
      "metadata": {
        "colab": {
          "base_uri": "https://localhost:8080/",
          "height": 464
        },
        "id": "SSy3NgUM6Gg2",
        "outputId": "8bf53b3c-f36d-414e-86a4-6f6712966803"
      },
      "source": [
        "ggplot(data, aes('RM', 'Price'))+stat_smooth(se=True, method='loess')"
      ],
      "execution_count": null,
      "outputs": [
        {
          "output_type": "display_data",
          "data": {
            "image/png": "[encoded data removed]",
            "text/plain": [
              "<Figure size 640x480 with 1 Axes>"
            ]
          },
          "metadata": {
            "tags": []
          }
        },
        {
          "output_type": "execute_result",
          "data": {
            "text/plain": [
              "<ggplot: (-9223363299136006214)>"
            ]
          },
          "metadata": {
            "tags": []
          },
          "execution_count": 15
        }
      ]
    },
    {
      "cell_type": "markdown",
      "metadata": {
        "id": "rdP0k4_bWtUQ"
      },
      "source": [
        "### Importance of scaling\r\n",
        "In order to get better visualisations and discover the correlations between variables , we use **StandardScaler** which standardizes a feature by subtracting the mean and then scaling to unit variance. \r\n",
        "To identify its impact , we suggest visualizing the correlation between 'DIS' and 'NOX' before and after scaling. "
      ]
    },
    {
      "cell_type": "code",
      "metadata": {
        "colab": {
          "base_uri": "https://localhost:8080/",
          "height": 224
        },
        "id": "-aPP_A-R_pnJ",
        "outputId": "449e795f-bd61-4b87-fa4b-3a763b813bdd"
      },
      "source": [
        "from sklearn.preprocessing import StandardScaler\r\n",
        "boston_df = boston.drop(columns = ['TOWN','MEDV'])\r\n",
        "scaled_features = StandardScaler().fit_transform(boston_df.values)\r\n",
        "scaled_features_df = pd.DataFrame(scaled_features, index=boston_df.index, columns=boston_df.columns)\r\n",
        "X_scaled = scaled_features_df.drop(columns=['CMEDV'])\r\n",
        "y_scaled = scaled_features_df['CMEDV']\r\n",
        "data_scaled = X_scaled\r\n",
        "data_scaled['Price'] = y_scaled\r\n",
        "data_scaled.head()\r\n"
      ],
      "execution_count": null,
      "outputs": [
        {
          "output_type": "execute_result",
          "data": {
            "text/html": [
              "<div>\n",
              "<style scoped>\n",
              "    .dataframe tbody tr th:only-of-type {\n",
              "        vertical-align: middle;\n",
              "    }\n",
              "\n",
              "    .dataframe tbody tr th {\n",
              "        vertical-align: top;\n",
              "    }\n",
              "\n",
              "    .dataframe thead th {\n",
              "        text-align: right;\n",
              "    }\n",
              "</style>\n",
              "<table border=\"1\" class=\"dataframe\">\n",
              "  <thead>\n",
              "    <tr style=\"text-align: right;\">\n",
              "      <th></th>\n",
              "      <th>TOWNNO</th>\n",
              "      <th>TRACT</th>\n",
              "      <th>LON</th>\n",
              "      <th>LAT</th>\n",
              "      <th>CRIM</th>\n",
              "      <th>ZN</th>\n",
              "      <th>INDUS</th>\n",
              "      <th>CHAS</th>\n",
              "      <th>NOX</th>\n",
              "      <th>RM</th>\n",
              "      <th>AGE</th>\n",
              "      <th>DIS</th>\n",
              "      <th>RAD</th>\n",
              "      <th>TAX</th>\n",
              "      <th>PTRATIO</th>\n",
              "      <th>B</th>\n",
              "      <th>LSTAT</th>\n",
              "      <th>Price</th>\n",
              "    </tr>\n",
              "  </thead>\n",
              "  <tbody>\n",
              "    <tr>\n",
              "      <th>0</th>\n",
              "      <td>-1.725653</td>\n",
              "      <td>-0.500015</td>\n",
              "      <td>1.345913</td>\n",
              "      <td>0.624791</td>\n",
              "      <td>-0.419782</td>\n",
              "      <td>0.284830</td>\n",
              "      <td>-1.287909</td>\n",
              "      <td>-0.272599</td>\n",
              "      <td>-0.144217</td>\n",
              "      <td>0.413672</td>\n",
              "      <td>-0.120013</td>\n",
              "      <td>0.140214</td>\n",
              "      <td>-0.982843</td>\n",
              "      <td>-0.666608</td>\n",
              "      <td>-1.459000</td>\n",
              "      <td>0.441052</td>\n",
              "      <td>-1.075562</td>\n",
              "      <td>0.160376</td>\n",
              "    </tr>\n",
              "    <tr>\n",
              "      <th>1</th>\n",
              "      <td>-1.689347</td>\n",
              "      <td>-0.492762</td>\n",
              "      <td>1.412287</td>\n",
              "      <td>1.151396</td>\n",
              "      <td>-0.417339</td>\n",
              "      <td>-0.487722</td>\n",
              "      <td>-0.593381</td>\n",
              "      <td>-0.272599</td>\n",
              "      <td>-0.740262</td>\n",
              "      <td>0.194274</td>\n",
              "      <td>0.367166</td>\n",
              "      <td>0.557160</td>\n",
              "      <td>-0.867883</td>\n",
              "      <td>-0.987329</td>\n",
              "      <td>-0.303094</td>\n",
              "      <td>0.441052</td>\n",
              "      <td>-0.492439</td>\n",
              "      <td>-0.101258</td>\n",
              "    </tr>\n",
              "    <tr>\n",
              "      <th>2</th>\n",
              "      <td>-1.689347</td>\n",
              "      <td>-0.492036</td>\n",
              "      <td>1.598134</td>\n",
              "      <td>1.078482</td>\n",
              "      <td>-0.417342</td>\n",
              "      <td>-0.487722</td>\n",
              "      <td>-0.593381</td>\n",
              "      <td>-0.272599</td>\n",
              "      <td>-0.740262</td>\n",
              "      <td>1.282714</td>\n",
              "      <td>-0.265812</td>\n",
              "      <td>0.557160</td>\n",
              "      <td>-0.867883</td>\n",
              "      <td>-0.987329</td>\n",
              "      <td>-0.303094</td>\n",
              "      <td>0.396427</td>\n",
              "      <td>-1.208727</td>\n",
              "      <td>1.326830</td>\n",
              "    </tr>\n",
              "    <tr>\n",
              "      <th>3</th>\n",
              "      <td>-1.653042</td>\n",
              "      <td>-0.485508</td>\n",
              "      <td>1.704333</td>\n",
              "      <td>1.240514</td>\n",
              "      <td>-0.416750</td>\n",
              "      <td>-0.487722</td>\n",
              "      <td>-1.306878</td>\n",
              "      <td>-0.272599</td>\n",
              "      <td>-0.835284</td>\n",
              "      <td>1.016303</td>\n",
              "      <td>-0.809889</td>\n",
              "      <td>1.077737</td>\n",
              "      <td>-0.752922</td>\n",
              "      <td>-1.106115</td>\n",
              "      <td>0.113032</td>\n",
              "      <td>0.416163</td>\n",
              "      <td>-1.361517</td>\n",
              "      <td>1.185112</td>\n",
              "    </tr>\n",
              "    <tr>\n",
              "      <th>4</th>\n",
              "      <td>-1.653042</td>\n",
              "      <td>-0.484783</td>\n",
              "      <td>1.783981</td>\n",
              "      <td>1.321530</td>\n",
              "      <td>-0.412482</td>\n",
              "      <td>-0.487722</td>\n",
              "      <td>-1.306878</td>\n",
              "      <td>-0.272599</td>\n",
              "      <td>-0.835284</td>\n",
              "      <td>1.228577</td>\n",
              "      <td>-0.511180</td>\n",
              "      <td>1.077737</td>\n",
              "      <td>-0.752922</td>\n",
              "      <td>-1.106115</td>\n",
              "      <td>0.113032</td>\n",
              "      <td>0.441052</td>\n",
              "      <td>-1.026501</td>\n",
              "      <td>1.490352</td>\n",
              "    </tr>\n",
              "  </tbody>\n",
              "</table>\n",
              "</div>"
            ],
            "text/plain": [
              "     TOWNNO     TRACT       LON  ...         B     LSTAT     Price\n",
              "0 -1.725653 -0.500015  1.345913  ...  0.441052 -1.075562  0.160376\n",
              "1 -1.689347 -0.492762  1.412287  ...  0.441052 -0.492439 -0.101258\n",
              "2 -1.689347 -0.492036  1.598134  ...  0.396427 -1.208727  1.326830\n",
              "3 -1.653042 -0.485508  1.704333  ...  0.416163 -1.361517  1.185112\n",
              "4 -1.653042 -0.484783  1.783981  ...  0.441052 -1.026501  1.490352\n",
              "\n",
              "[5 rows x 18 columns]"
            ]
          },
          "metadata": {
            "tags": []
          },
          "execution_count": 57
        }
      ]
    },
    {
      "cell_type": "markdown",
      "metadata": {
        "id": "0GSrGKbXkto7"
      },
      "source": [
        "Ploting the graphs of DIS and NOX, since they are highly correlated "
      ]
    },
    {
      "cell_type": "code",
      "metadata": {
        "colab": {
          "base_uri": "https://localhost:8080/",
          "height": 464
        },
        "id": "k5AiNXxS9CRa",
        "outputId": "2bfa2b4b-dd41-4d23-f367-19463f497a99"
      },
      "source": [
        "df=boston[['DIS','NOX']]\r\n",
        "df['x'] = df.index\r\n",
        "df = pd.melt(df, id_vars='x')\r\n",
        "\r\n",
        "ggplot(aes(x='x', y='value', color='variable'), df) + \\\r\n",
        "      geom_line()"
      ],
      "execution_count": null,
      "outputs": [
        {
          "output_type": "display_data",
          "data": {
            "image/png": "[encoded data removed]",
            "text/plain": [
              "<Figure size 640x480 with 1 Axes>"
            ]
          },
          "metadata": {
            "tags": []
          }
        },
        {
          "output_type": "execute_result",
          "data": {
            "text/plain": [
              "<ggplot: (8737718748259)>"
            ]
          },
          "metadata": {
            "tags": []
          },
          "execution_count": 17
        }
      ]
    },
    {
      "cell_type": "markdown",
      "metadata": {
        "id": "-TBB5KByk5ni"
      },
      "source": [
        "=> the correclation isn't clear here because the two variable don't flactuate in the same interval.\r\n",
        "\r\n",
        "**We need to use the scaled data.**"
      ]
    },
    {
      "cell_type": "code",
      "metadata": {
        "colab": {
          "base_uri": "https://localhost:8080/",
          "height": 464
        },
        "id": "d4N3VZqVAOvh",
        "outputId": "ded16c71-2f9d-4e72-89b7-8476fe2a5f81"
      },
      "source": [
        "df=scaled_features_df[['DIS','NOX']]\r\n",
        "df['x'] = df.index\r\n",
        "df = pd.melt(df, id_vars='x')\r\n",
        "\r\n",
        "ggplot(aes(x='x', y='value', color='variable'), df) + \\\r\n",
        "      geom_line()"
      ],
      "execution_count": null,
      "outputs": [
        {
          "output_type": "display_data",
          "data": {
            "image/png": "[encoded data removed]",
            "text/plain": [
              "<Figure size 640x480 with 1 Axes>"
            ]
          },
          "metadata": {
            "tags": []
          }
        },
        {
          "output_type": "execute_result",
          "data": {
            "text/plain": [
              "<ggplot: (-9223363299135814242)>"
            ]
          },
          "metadata": {
            "tags": []
          },
          "execution_count": 18
        }
      ]
    },
    {
      "cell_type": "markdown",
      "metadata": {
        "id": "MDy3bK-yBKl9"
      },
      "source": [
        "***Interpretation*** : its clear from the graph that they move in opposite directions"
      ]
    },
    {
      "cell_type": "code",
      "metadata": {
        "colab": {
          "base_uri": "https://localhost:8080/",
          "height": 204
        },
        "id": "GLawbcbHn_ld",
        "outputId": "eabfc07d-d1bb-45ef-c26e-a2d99196330a"
      },
      "source": [
        "gdf = gpd.GeoDataFrame(\r\n",
        "    boston[[\"TOWN\", \"LAT\",\"LON\",\"CMEDV\"]], geometry=gpd.points_from_xy(boston.LON, boston.LAT))\r\n",
        "gdf.head()"
      ],
      "execution_count": null,
      "outputs": [
        {
          "output_type": "execute_result",
          "data": {
            "text/html": [
              "<div>\n",
              "<style scoped>\n",
              "    .dataframe tbody tr th:only-of-type {\n",
              "        vertical-align: middle;\n",
              "    }\n",
              "\n",
              "    .dataframe tbody tr th {\n",
              "        vertical-align: top;\n",
              "    }\n",
              "\n",
              "    .dataframe thead th {\n",
              "        text-align: right;\n",
              "    }\n",
              "</style>\n",
              "<table border=\"1\" class=\"dataframe\">\n",
              "  <thead>\n",
              "    <tr style=\"text-align: right;\">\n",
              "      <th></th>\n",
              "      <th>TOWN</th>\n",
              "      <th>LAT</th>\n",
              "      <th>LON</th>\n",
              "      <th>CMEDV</th>\n",
              "      <th>geometry</th>\n",
              "    </tr>\n",
              "  </thead>\n",
              "  <tbody>\n",
              "    <tr>\n",
              "      <th>0</th>\n",
              "      <td>Nahant</td>\n",
              "      <td>42.2550</td>\n",
              "      <td>-70.955</td>\n",
              "      <td>24.0</td>\n",
              "      <td>POINT (-70.95500 42.25500)</td>\n",
              "    </tr>\n",
              "    <tr>\n",
              "      <th>1</th>\n",
              "      <td>Swampscott</td>\n",
              "      <td>42.2875</td>\n",
              "      <td>-70.950</td>\n",
              "      <td>21.6</td>\n",
              "      <td>POINT (-70.95000 42.28750)</td>\n",
              "    </tr>\n",
              "    <tr>\n",
              "      <th>2</th>\n",
              "      <td>Swampscott</td>\n",
              "      <td>42.2830</td>\n",
              "      <td>-70.936</td>\n",
              "      <td>34.7</td>\n",
              "      <td>POINT (-70.93600 42.28300)</td>\n",
              "    </tr>\n",
              "    <tr>\n",
              "      <th>3</th>\n",
              "      <td>Marblehead</td>\n",
              "      <td>42.2930</td>\n",
              "      <td>-70.928</td>\n",
              "      <td>33.4</td>\n",
              "      <td>POINT (-70.92800 42.29300)</td>\n",
              "    </tr>\n",
              "    <tr>\n",
              "      <th>4</th>\n",
              "      <td>Marblehead</td>\n",
              "      <td>42.2980</td>\n",
              "      <td>-70.922</td>\n",
              "      <td>36.2</td>\n",
              "      <td>POINT (-70.92200 42.29800)</td>\n",
              "    </tr>\n",
              "  </tbody>\n",
              "</table>\n",
              "</div>"
            ],
            "text/plain": [
              "         TOWN      LAT     LON  CMEDV                    geometry\n",
              "0      Nahant  42.2550 -70.955   24.0  POINT (-70.95500 42.25500)\n",
              "1  Swampscott  42.2875 -70.950   21.6  POINT (-70.95000 42.28750)\n",
              "2  Swampscott  42.2830 -70.936   34.7  POINT (-70.93600 42.28300)\n",
              "3  Marblehead  42.2930 -70.928   33.4  POINT (-70.92800 42.29300)\n",
              "4  Marblehead  42.2980 -70.922   36.2  POINT (-70.92200 42.29800)"
            ]
          },
          "metadata": {
            "tags": []
          },
          "execution_count": 58
        }
      ]
    },
    {
      "cell_type": "code",
      "metadata": {
        "colab": {
          "base_uri": "https://localhost:8080/",
          "height": 297
        },
        "id": "ZutCGyoYRLH1",
        "outputId": "0972c5bc-e455-4d62-c58a-5f57de997eba"
      },
      "source": [
        "gdf.describe()"
      ],
      "execution_count": null,
      "outputs": [
        {
          "output_type": "execute_result",
          "data": {
            "text/html": [
              "<div>\n",
              "<style scoped>\n",
              "    .dataframe tbody tr th:only-of-type {\n",
              "        vertical-align: middle;\n",
              "    }\n",
              "\n",
              "    .dataframe tbody tr th {\n",
              "        vertical-align: top;\n",
              "    }\n",
              "\n",
              "    .dataframe thead th {\n",
              "        text-align: right;\n",
              "    }\n",
              "</style>\n",
              "<table border=\"1\" class=\"dataframe\">\n",
              "  <thead>\n",
              "    <tr style=\"text-align: right;\">\n",
              "      <th></th>\n",
              "      <th>LAT</th>\n",
              "      <th>LON</th>\n",
              "      <th>CMEDV</th>\n",
              "    </tr>\n",
              "  </thead>\n",
              "  <tbody>\n",
              "    <tr>\n",
              "      <th>count</th>\n",
              "      <td>506.000000</td>\n",
              "      <td>506.000000</td>\n",
              "      <td>506.000000</td>\n",
              "    </tr>\n",
              "    <tr>\n",
              "      <th>mean</th>\n",
              "      <td>42.216440</td>\n",
              "      <td>-71.056389</td>\n",
              "      <td>22.528854</td>\n",
              "    </tr>\n",
              "    <tr>\n",
              "      <th>std</th>\n",
              "      <td>0.061777</td>\n",
              "      <td>0.075405</td>\n",
              "      <td>9.182176</td>\n",
              "    </tr>\n",
              "    <tr>\n",
              "      <th>min</th>\n",
              "      <td>42.030000</td>\n",
              "      <td>-71.289500</td>\n",
              "      <td>5.000000</td>\n",
              "    </tr>\n",
              "    <tr>\n",
              "      <th>25%</th>\n",
              "      <td>42.180775</td>\n",
              "      <td>-71.093225</td>\n",
              "      <td>17.025000</td>\n",
              "    </tr>\n",
              "    <tr>\n",
              "      <th>50%</th>\n",
              "      <td>42.218100</td>\n",
              "      <td>-71.052900</td>\n",
              "      <td>21.200000</td>\n",
              "    </tr>\n",
              "    <tr>\n",
              "      <th>75%</th>\n",
              "      <td>42.252250</td>\n",
              "      <td>-71.019625</td>\n",
              "      <td>25.000000</td>\n",
              "    </tr>\n",
              "    <tr>\n",
              "      <th>max</th>\n",
              "      <td>42.381000</td>\n",
              "      <td>-70.810000</td>\n",
              "      <td>50.000000</td>\n",
              "    </tr>\n",
              "  </tbody>\n",
              "</table>\n",
              "</div>"
            ],
            "text/plain": [
              "              LAT         LON       CMEDV\n",
              "count  506.000000  506.000000  506.000000\n",
              "mean    42.216440  -71.056389   22.528854\n",
              "std      0.061777    0.075405    9.182176\n",
              "min     42.030000  -71.289500    5.000000\n",
              "25%     42.180775  -71.093225   17.025000\n",
              "50%     42.218100  -71.052900   21.200000\n",
              "75%     42.252250  -71.019625   25.000000\n",
              "max     42.381000  -70.810000   50.000000"
            ]
          },
          "metadata": {
            "tags": []
          },
          "execution_count": 59
        }
      ]
    },
    {
      "cell_type": "code",
      "metadata": {
        "colab": {
          "base_uri": "https://localhost:8080/",
          "height": 219
        },
        "id": "huWr2AKKoebQ",
        "outputId": "e9b2dc33-54c0-4ff1-f1cc-325f86f263d2"
      },
      "source": [
        "world = gpd.read_file(gpd.datasets.get_path('naturalearth_lowres'))\r\n",
        "\r\n",
        "# We restrict to US of America.\r\n",
        "ax = world[world.name == 'United States of America'].plot(\r\n",
        "    color='green', edgecolor='black' )\r\n",
        "\r\n",
        "gdf.plot(ax=ax, color='red' )\r\n",
        "plt.axis([-71.5, -70.5, 42, 42.5])\r\n",
        "\r\n",
        "\r\n",
        "plt.show()"
      ],
      "execution_count": null,
      "outputs": [
        {
          "output_type": "display_data",
          "data": {
            "image/png": "[encoded data removed]",
            "text/plain": [
              "<Figure size 432x288 with 1 Axes>"
            ]
          },
          "metadata": {
            "tags": [],
            "needs_background": "light"
          }
        }
      ]
    },
    {
      "cell_type": "code",
      "metadata": {
        "id": "ixjCn3y1BjB0",
        "colab": {
          "base_uri": "https://localhost:8080/"
        },
        "outputId": "6e566872-49b4-46d4-c7c4-af66cc27fde8"
      },
      "source": [
        "corrmat.index.values"
      ],
      "execution_count": null,
      "outputs": [
        {
          "output_type": "execute_result",
          "data": {
            "text/plain": [
              "array(['TOWNNO', 'TRACT', 'LON', 'LAT', 'CRIM', 'ZN', 'INDUS', 'CHAS',\n",
              "       'NOX', 'RM', 'AGE', 'DIS', 'RAD', 'TAX', 'PTRATIO', 'B', 'LSTAT',\n",
              "       'Price'], dtype=object)"
            ]
          },
          "metadata": {
            "tags": []
          },
          "execution_count": 22
        }
      ]
    },
    {
      "cell_type": "markdown",
      "metadata": {
        "id": "yZU0H6MHSe_7"
      },
      "source": [
        "### Data processing & exploration"
      ]
    },
    {
      "cell_type": "markdown",
      "metadata": {
        "id": "ts3zVR85A-Ny"
      },
      "source": [
        "#### Target value distribution"
      ]
    },
    {
      "cell_type": "code",
      "metadata": {
        "colab": {
          "base_uri": "https://localhost:8080/",
          "height": 405
        },
        "id": "8ZkjbWoAnb9t",
        "outputId": "3f2279c2-47ce-4e77-f1a4-4f24e7e56ec4"
      },
      "source": [
        "plt.figure(figsize=(10, 6))\r\n",
        "sns.distplot(boston['CMEDV'],bins=30)"
      ],
      "execution_count": null,
      "outputs": [
        {
          "output_type": "execute_result",
          "data": {
            "text/plain": [
              "<matplotlib.axes._subplots.AxesSubplot at 0x7f2689f4ae48>"
            ]
          },
          "metadata": {
            "tags": []
          },
          "execution_count": 23
        },
        {
          "output_type": "display_data",
          "data": {
            "image/png": "[encoded data removed]",
            "text/plain": [
              "<Figure size 720x432 with 1 Axes>"
            ]
          },
          "metadata": {
            "tags": [],
            "needs_background": "light"
          }
        }
      ]
    },
    {
      "cell_type": "markdown",
      "metadata": {
        "id": "enOGrJFUSm1_"
      },
      "source": [
        "#### Distribution of housing prices by town"
      ]
    },
    {
      "cell_type": "code",
      "metadata": {
        "colab": {
          "base_uri": "https://localhost:8080/",
          "height": 1000
        },
        "id": "smVsWRwEjLuC",
        "outputId": "f562ad1d-667c-47b4-cd04-051467bfbd31"
      },
      "source": [
        "plt.figure(figsize=(10, 6))\r\n",
        "sns.histplot(data=boston, x=\"CMEDV\", hue=\"TOWN\" )\r\n"
      ],
      "execution_count": null,
      "outputs": [
        {
          "output_type": "execute_result",
          "data": {
            "text/plain": [
              "<matplotlib.axes._subplots.AxesSubplot at 0x7f2689f4ad30>"
            ]
          },
          "metadata": {
            "tags": []
          },
          "execution_count": 24
        },
        {
          "output_type": "display_data",
          "data": {
            "image/png": "[encoded data removed]",
            "text/plain": [
              "<Figure size 720x432 with 1 Axes>"
            ]
          },
          "metadata": {
            "tags": [],
            "needs_background": "light"
          }
        }
      ]
    },
    {
      "cell_type": "markdown",
      "metadata": {
        "id": "1PesJPK-lqtG"
      },
      "source": [
        "## III. Regression on all the features"
      ]
    },
    {
      "cell_type": "markdown",
      "metadata": {
        "id": "dGfgENtonjJn"
      },
      "source": [
        "### 1. Train Test split for unscaled and scaled data"
      ]
    },
    {
      "cell_type": "code",
      "metadata": {
        "id": "taJkFhEYFpnn"
      },
      "source": [
        "X_train, X_test, y_train, y_test = train_test_split(data.drop(columns='Price'), y, test_size = 0.33, random_state = 0)\r\n",
        "X_train_s, X_test_s, y_train_s, y_test_s = train_test_split(X_scaled.drop(columns='Price'), y_scaled, test_size = 0.33, random_state = 0)\r\n"
      ],
      "execution_count": null,
      "outputs": []
    },
    {
      "cell_type": "markdown",
      "metadata": {
        "id": "4ZzPtaZynoPs"
      },
      "source": [
        "### 2. Linear Regression on all the features"
      ]
    },
    {
      "cell_type": "code",
      "metadata": {
        "id": "sEM57ddjtdk0"
      },
      "source": [
        "def linear_regression_model(X_train, X_test, y_train, y_test, scaling):\r\n",
        "\r\n",
        "  model = LinearRegression()\r\n",
        "  model.fit(X_train, y_train)\r\n",
        "  y_predict = model.predict(X_test)\r\n",
        "  df = pd.DataFrame(data = [y_predict, y_test])\r\n",
        "  df.T\r\n",
        "  results = performance_metrics(X_train.columns, y_test, y_predict)\r\n",
        "  results['model'] = 'linear regression'\r\n",
        "  results['data'] = scaling\r\n",
        "  return results"
      ],
      "execution_count": null,
      "outputs": []
    },
    {
      "cell_type": "markdown",
      "metadata": {
        "id": "oX8QzIPPnxR6"
      },
      "source": [
        "#### Unscaled Data"
      ]
    },
    {
      "cell_type": "code",
      "metadata": {
        "id": "wcOSnRR-FZPA",
        "colab": {
          "base_uri": "https://localhost:8080/",
          "height": 80
        },
        "outputId": "53a44bbb-caa8-43ba-e8cd-7478a1102a95"
      },
      "source": [
        "lr_ns = linear_regression_model(X_train, X_test, y_train, y_test, 'unscaled')\r\n",
        "lr_ns"
      ],
      "execution_count": null,
      "outputs": [
        {
          "output_type": "execute_result",
          "data": {
            "text/html": [
              "<div>\n",
              "<style scoped>\n",
              "    .dataframe tbody tr th:only-of-type {\n",
              "        vertical-align: middle;\n",
              "    }\n",
              "\n",
              "    .dataframe tbody tr th {\n",
              "        vertical-align: top;\n",
              "    }\n",
              "\n",
              "    .dataframe thead th {\n",
              "        text-align: right;\n",
              "    }\n",
              "</style>\n",
              "<table border=\"1\" class=\"dataframe\">\n",
              "  <thead>\n",
              "    <tr style=\"text-align: right;\">\n",
              "      <th></th>\n",
              "      <th>features name</th>\n",
              "      <th>#feature</th>\n",
              "      <th>r2_score</th>\n",
              "      <th>MAE</th>\n",
              "      <th>MSE</th>\n",
              "      <th>model</th>\n",
              "      <th>data</th>\n",
              "    </tr>\n",
              "  </thead>\n",
              "  <tbody>\n",
              "    <tr>\n",
              "      <th>0</th>\n",
              "      <td>Index(['TOWNNO', 'TRACT', 'LON', 'LAT', 'CRIM'...</td>\n",
              "      <td>16</td>\n",
              "      <td>0.68421</td>\n",
              "      <td>3.44442</td>\n",
              "      <td>25.3083</td>\n",
              "      <td>linear regression</td>\n",
              "      <td>unscaled</td>\n",
              "    </tr>\n",
              "  </tbody>\n",
              "</table>\n",
              "</div>"
            ],
            "text/plain": [
              "                                       features name  ...      data\n",
              "0  Index(['TOWNNO', 'TRACT', 'LON', 'LAT', 'CRIM'...  ...  unscaled\n",
              "\n",
              "[1 rows x 7 columns]"
            ]
          },
          "metadata": {
            "tags": []
          },
          "execution_count": 27
        }
      ]
    },
    {
      "cell_type": "markdown",
      "metadata": {
        "id": "UYB19RB9oYNK"
      },
      "source": [
        "#### Scaled Data\r\n"
      ]
    },
    {
      "cell_type": "code",
      "metadata": {
        "colab": {
          "base_uri": "https://localhost:8080/",
          "height": 80
        },
        "id": "UQbdiDVBo5I9",
        "outputId": "b7833f6f-3fc3-4a81-a478-7d6fb00f0c2e"
      },
      "source": [
        "lr_s = linear_regression_model(X_train_s, X_test_s, y_train_s, y_test_s, 'scaled')\r\n",
        "lr_s"
      ],
      "execution_count": null,
      "outputs": [
        {
          "output_type": "execute_result",
          "data": {
            "text/html": [
              "<div>\n",
              "<style scoped>\n",
              "    .dataframe tbody tr th:only-of-type {\n",
              "        vertical-align: middle;\n",
              "    }\n",
              "\n",
              "    .dataframe tbody tr th {\n",
              "        vertical-align: top;\n",
              "    }\n",
              "\n",
              "    .dataframe thead th {\n",
              "        text-align: right;\n",
              "    }\n",
              "</style>\n",
              "<table border=\"1\" class=\"dataframe\">\n",
              "  <thead>\n",
              "    <tr style=\"text-align: right;\">\n",
              "      <th></th>\n",
              "      <th>features name</th>\n",
              "      <th>#feature</th>\n",
              "      <th>r2_score</th>\n",
              "      <th>MAE</th>\n",
              "      <th>MSE</th>\n",
              "      <th>model</th>\n",
              "      <th>data</th>\n",
              "    </tr>\n",
              "  </thead>\n",
              "  <tbody>\n",
              "    <tr>\n",
              "      <th>0</th>\n",
              "      <td>Index(['TOWNNO', 'TRACT', 'LON', 'LAT', 'CRIM'...</td>\n",
              "      <td>16</td>\n",
              "      <td>0.68421</td>\n",
              "      <td>0.375492</td>\n",
              "      <td>0.300768</td>\n",
              "      <td>linear regression</td>\n",
              "      <td>scaled</td>\n",
              "    </tr>\n",
              "  </tbody>\n",
              "</table>\n",
              "</div>"
            ],
            "text/plain": [
              "                                       features name  ...    data\n",
              "0  Index(['TOWNNO', 'TRACT', 'LON', 'LAT', 'CRIM'...  ...  scaled\n",
              "\n",
              "[1 rows x 7 columns]"
            ]
          },
          "metadata": {
            "tags": []
          },
          "execution_count": 28
        }
      ]
    },
    {
      "cell_type": "markdown",
      "metadata": {
        "id": "yCuDu4yjrX5c"
      },
      "source": [
        "### 3. Linear Regression with Polynomial Features"
      ]
    },
    {
      "cell_type": "markdown",
      "metadata": {
        "id": "SLRk6Jcdrodm"
      },
      "source": [
        "#### Unscaled Data"
      ]
    },
    {
      "cell_type": "code",
      "metadata": {
        "id": "LmKwBGyJJhPw"
      },
      "source": [
        "from sklearn.preprocessing import PolynomialFeatures\r\n",
        "poly_reg = PolynomialFeatures(degree = 2)\r\n",
        "\r\n",
        "\r\n",
        "def regressor_poly2_model(X_train, X_test, y_train, y_test, scaling):\r\n",
        "  X_poly = poly_reg.fit_transform(X_train)\r\n",
        "  poly_reg.fit(X_poly, y_train)\r\n",
        "  regressor_poly2 = LinearRegression()\r\n",
        "\r\n",
        "  regressor_poly2.fit(X_poly, y_train)\r\n",
        "\r\n",
        "  # Predicting Cross Validation Score the Test set results\r\n",
        "  cv_poly2 = cross_val_score(estimator = regressor_poly2, X = X_train, y = y_train, cv = 10)\r\n",
        "\r\n",
        "  # Predicting R2 Score the Train set results\r\n",
        "  y_pred_poly2_train = regressor_poly2.predict(poly_reg.fit_transform(X_train))\r\n",
        "  r2_score_poly2_train = r2_score(y_train, y_pred_poly2_train)\r\n",
        "\r\n",
        "  # Predicting R2 Score the Test set results\r\n",
        "  y_pred_poly2_test = regressor_poly2.predict(poly_reg.fit_transform(X_test))\r\n",
        "  r2_score_poly2_test = r2_score(y_test, y_pred_poly2_test)\r\n",
        "\r\n",
        "  results = performance_metrics(X_train.columns, y_test, y_pred_poly2_test)\r\n",
        "  results['model'] = 'linear regression with polynomial features'\r\n",
        "  results['data'] = scaling\r\n",
        "  return results"
      ],
      "execution_count": null,
      "outputs": []
    },
    {
      "cell_type": "code",
      "metadata": {
        "id": "58qc6_bgJwRR",
        "colab": {
          "base_uri": "https://localhost:8080/",
          "height": 97
        },
        "outputId": "6b8cb010-3e3e-4a06-d67c-c83201d61481"
      },
      "source": [
        "lr_ns_p2 = regressor_poly2_model(X_train, X_test, y_train, y_test, 'unscaled')\r\n",
        "lr_ns_p2"
      ],
      "execution_count": null,
      "outputs": [
        {
          "output_type": "execute_result",
          "data": {
            "text/html": [
              "<div>\n",
              "<style scoped>\n",
              "    .dataframe tbody tr th:only-of-type {\n",
              "        vertical-align: middle;\n",
              "    }\n",
              "\n",
              "    .dataframe tbody tr th {\n",
              "        vertical-align: top;\n",
              "    }\n",
              "\n",
              "    .dataframe thead th {\n",
              "        text-align: right;\n",
              "    }\n",
              "</style>\n",
              "<table border=\"1\" class=\"dataframe\">\n",
              "  <thead>\n",
              "    <tr style=\"text-align: right;\">\n",
              "      <th></th>\n",
              "      <th>features name</th>\n",
              "      <th>#feature</th>\n",
              "      <th>r2_score</th>\n",
              "      <th>MAE</th>\n",
              "      <th>MSE</th>\n",
              "      <th>model</th>\n",
              "      <th>data</th>\n",
              "    </tr>\n",
              "  </thead>\n",
              "  <tbody>\n",
              "    <tr>\n",
              "      <th>0</th>\n",
              "      <td>Index(['TOWNNO', 'TRACT', 'LON', 'LAT', 'CRIM'...</td>\n",
              "      <td>16</td>\n",
              "      <td>0.678643</td>\n",
              "      <td>3.32275</td>\n",
              "      <td>25.7544</td>\n",
              "      <td>linear regression with polynomial features</td>\n",
              "      <td>unscaled</td>\n",
              "    </tr>\n",
              "  </tbody>\n",
              "</table>\n",
              "</div>"
            ],
            "text/plain": [
              "                                       features name  ...      data\n",
              "0  Index(['TOWNNO', 'TRACT', 'LON', 'LAT', 'CRIM'...  ...  unscaled\n",
              "\n",
              "[1 rows x 7 columns]"
            ]
          },
          "metadata": {
            "tags": []
          },
          "execution_count": 30
        }
      ]
    },
    {
      "cell_type": "markdown",
      "metadata": {
        "id": "UD5WqZVJzq8l"
      },
      "source": [
        "#### Scaled Data"
      ]
    },
    {
      "cell_type": "code",
      "metadata": {
        "colab": {
          "base_uri": "https://localhost:8080/",
          "height": 97
        },
        "id": "sc-fiAh9tIxF",
        "outputId": "e1addec8-f35f-49bb-8b3d-a289cc8021f9"
      },
      "source": [
        "lr_s_p2 = regressor_poly2_model(X_train_s, X_test_s, y_train_s, y_test_s, 'scaled')\r\n",
        "lr_s_p2"
      ],
      "execution_count": null,
      "outputs": [
        {
          "output_type": "execute_result",
          "data": {
            "text/html": [
              "<div>\n",
              "<style scoped>\n",
              "    .dataframe tbody tr th:only-of-type {\n",
              "        vertical-align: middle;\n",
              "    }\n",
              "\n",
              "    .dataframe tbody tr th {\n",
              "        vertical-align: top;\n",
              "    }\n",
              "\n",
              "    .dataframe thead th {\n",
              "        text-align: right;\n",
              "    }\n",
              "</style>\n",
              "<table border=\"1\" class=\"dataframe\">\n",
              "  <thead>\n",
              "    <tr style=\"text-align: right;\">\n",
              "      <th></th>\n",
              "      <th>features name</th>\n",
              "      <th>#feature</th>\n",
              "      <th>r2_score</th>\n",
              "      <th>MAE</th>\n",
              "      <th>MSE</th>\n",
              "      <th>model</th>\n",
              "      <th>data</th>\n",
              "    </tr>\n",
              "  </thead>\n",
              "  <tbody>\n",
              "    <tr>\n",
              "      <th>0</th>\n",
              "      <td>Index(['TOWNNO', 'TRACT', 'LON', 'LAT', 'CRIM'...</td>\n",
              "      <td>16</td>\n",
              "      <td>0.686518</td>\n",
              "      <td>0.357982</td>\n",
              "      <td>0.29857</td>\n",
              "      <td>linear regression with polynomial features</td>\n",
              "      <td>scaled</td>\n",
              "    </tr>\n",
              "  </tbody>\n",
              "</table>\n",
              "</div>"
            ],
            "text/plain": [
              "                                       features name  ...    data\n",
              "0  Index(['TOWNNO', 'TRACT', 'LON', 'LAT', 'CRIM'...  ...  scaled\n",
              "\n",
              "[1 rows x 7 columns]"
            ]
          },
          "metadata": {
            "tags": []
          },
          "execution_count": 31
        }
      ]
    },
    {
      "cell_type": "markdown",
      "metadata": {
        "id": "MgU-AHl3uXAE"
      },
      "source": [
        "### Ridge model"
      ]
    },
    {
      "cell_type": "code",
      "metadata": {
        "id": "kmvTA8LJvFTe"
      },
      "source": [
        "\r\n",
        "def ridge_model(X_train, X_test, y_train, y_test, steps, scaling):\r\n",
        "  \r\n",
        "  ridge_pipe = Pipeline(steps)\r\n",
        "  ridge_pipe.fit(X_train, y_train)\r\n",
        "  # Predicting Cross Validation Score the Test set results\r\n",
        "  cv_ridge = cross_val_score(estimator = ridge_pipe, X = X_train, y = y_train.ravel(), cv = 10)\r\n",
        "\r\n",
        "  y_pred_ridge_test = ridge_pipe.predict(X_test)\r\n",
        "\r\n",
        "  results = performance_metrics(X_train.columns, y_test, y_pred_ridge_test)\r\n",
        "  results['model'] = 'Ridge'\r\n",
        "  results['data'] = scaling\r\n",
        "  return results\r\n",
        "\r\n",
        "\r\n",
        "\r\n"
      ],
      "execution_count": null,
      "outputs": []
    },
    {
      "cell_type": "markdown",
      "metadata": {
        "id": "46_Zc2GJu6jW"
      },
      "source": [
        "#### Unscaled data"
      ]
    },
    {
      "cell_type": "code",
      "metadata": {
        "colab": {
          "base_uri": "https://localhost:8080/",
          "height": 80
        },
        "id": "8HGzwprEwJ7B",
        "outputId": "4ed63cfb-966a-4eea-e4a4-698d6b806804"
      },
      "source": [
        "ridge_ns = ridge_model(X_train, X_test, y_train, y_test, [\r\n",
        "    ('poly', PolynomialFeatures(degree=2)),\r\n",
        "    ('model', Ridge(alpha=3.8, fit_intercept=True))\r\n",
        "], \"unscaled\")\r\n",
        "ridge_ns"
      ],
      "execution_count": null,
      "outputs": [
        {
          "output_type": "execute_result",
          "data": {
            "text/html": [
              "<div>\n",
              "<style scoped>\n",
              "    .dataframe tbody tr th:only-of-type {\n",
              "        vertical-align: middle;\n",
              "    }\n",
              "\n",
              "    .dataframe tbody tr th {\n",
              "        vertical-align: top;\n",
              "    }\n",
              "\n",
              "    .dataframe thead th {\n",
              "        text-align: right;\n",
              "    }\n",
              "</style>\n",
              "<table border=\"1\" class=\"dataframe\">\n",
              "  <thead>\n",
              "    <tr style=\"text-align: right;\">\n",
              "      <th></th>\n",
              "      <th>features name</th>\n",
              "      <th>#feature</th>\n",
              "      <th>r2_score</th>\n",
              "      <th>MAE</th>\n",
              "      <th>MSE</th>\n",
              "      <th>model</th>\n",
              "      <th>data</th>\n",
              "    </tr>\n",
              "  </thead>\n",
              "  <tbody>\n",
              "    <tr>\n",
              "      <th>0</th>\n",
              "      <td>Index(['TOWNNO', 'TRACT', 'LON', 'LAT', 'CRIM'...</td>\n",
              "      <td>16</td>\n",
              "      <td>0.772835</td>\n",
              "      <td>2.77662</td>\n",
              "      <td>18.2056</td>\n",
              "      <td>Ridge</td>\n",
              "      <td>unscaled</td>\n",
              "    </tr>\n",
              "  </tbody>\n",
              "</table>\n",
              "</div>"
            ],
            "text/plain": [
              "                                       features name #feature  ...  model      data\n",
              "0  Index(['TOWNNO', 'TRACT', 'LON', 'LAT', 'CRIM'...       16  ...  Ridge  unscaled\n",
              "\n",
              "[1 rows x 7 columns]"
            ]
          },
          "metadata": {
            "tags": []
          },
          "execution_count": 33
        }
      ]
    },
    {
      "cell_type": "markdown",
      "metadata": {
        "id": "nI5hxN0VwUgp"
      },
      "source": [
        "#### Scaled Data"
      ]
    },
    {
      "cell_type": "code",
      "metadata": {
        "colab": {
          "base_uri": "https://localhost:8080/",
          "height": 80
        },
        "id": "J22I0aQrurgN",
        "outputId": "d6942bd8-0cfa-4f57-ed0c-cafb0b0bc7c3"
      },
      "source": [
        "ridge_s = ridge_model(X_train, X_test, y_train, y_test, [\r\n",
        "    ('scalar', StandardScaler()),\r\n",
        "    ('poly', PolynomialFeatures(degree=2)),\r\n",
        "    ('model', Ridge(alpha=3.8, fit_intercept=True))\r\n",
        "], \"scaled\")\r\n",
        "ridge_s"
      ],
      "execution_count": null,
      "outputs": [
        {
          "output_type": "execute_result",
          "data": {
            "text/html": [
              "<div>\n",
              "<style scoped>\n",
              "    .dataframe tbody tr th:only-of-type {\n",
              "        vertical-align: middle;\n",
              "    }\n",
              "\n",
              "    .dataframe tbody tr th {\n",
              "        vertical-align: top;\n",
              "    }\n",
              "\n",
              "    .dataframe thead th {\n",
              "        text-align: right;\n",
              "    }\n",
              "</style>\n",
              "<table border=\"1\" class=\"dataframe\">\n",
              "  <thead>\n",
              "    <tr style=\"text-align: right;\">\n",
              "      <th></th>\n",
              "      <th>features name</th>\n",
              "      <th>#feature</th>\n",
              "      <th>r2_score</th>\n",
              "      <th>MAE</th>\n",
              "      <th>MSE</th>\n",
              "      <th>model</th>\n",
              "      <th>data</th>\n",
              "    </tr>\n",
              "  </thead>\n",
              "  <tbody>\n",
              "    <tr>\n",
              "      <th>0</th>\n",
              "      <td>Index(['TOWNNO', 'TRACT', 'LON', 'LAT', 'CRIM'...</td>\n",
              "      <td>16</td>\n",
              "      <td>0.802146</td>\n",
              "      <td>2.50413</td>\n",
              "      <td>15.8566</td>\n",
              "      <td>Ridge</td>\n",
              "      <td>scaled</td>\n",
              "    </tr>\n",
              "  </tbody>\n",
              "</table>\n",
              "</div>"
            ],
            "text/plain": [
              "                                       features name #feature  ...  model    data\n",
              "0  Index(['TOWNNO', 'TRACT', 'LON', 'LAT', 'CRIM'...       16  ...  Ridge  scaled\n",
              "\n",
              "[1 rows x 7 columns]"
            ]
          },
          "metadata": {
            "tags": []
          },
          "execution_count": 34
        }
      ]
    },
    {
      "cell_type": "markdown",
      "metadata": {
        "id": "asd1GZxDyJlO"
      },
      "source": [
        "### Lasso Model"
      ]
    },
    {
      "cell_type": "code",
      "metadata": {
        "id": "Y8cNL_6ULG1T"
      },
      "source": [
        "\r\n",
        "\r\n",
        "def lasso_model(X_train, X_test, y_train, y_test, steps, scaling):\r\n",
        "  \r\n",
        "  lasso_pipe = Pipeline(steps)\r\n",
        "  lasso_pipe.fit(X_train, y_train)\r\n",
        "  # Predicting Cross Validation Score\r\n",
        "  cv_lasso = cross_val_score(estimator = lasso_pipe, X = X_train, y = y_train, cv = 10)\r\n",
        " \r\n",
        "  y_pred_lasso_test = lasso_pipe.predict(X_test)\r\n",
        "  \r\n",
        "  results = performance_metrics(X_train.columns, y_test, y_pred_lasso_test)\r\n",
        "  results['model'] = 'Lasso'\r\n",
        "  results['data'] = scaling\r\n",
        "  return results\r\n"
      ],
      "execution_count": null,
      "outputs": []
    },
    {
      "cell_type": "markdown",
      "metadata": {
        "id": "O34n5NK0yld2"
      },
      "source": [
        "#### Unscaled Data"
      ]
    },
    {
      "cell_type": "code",
      "metadata": {
        "colab": {
          "base_uri": "https://localhost:8080/",
          "height": 80
        },
        "id": "-9F6xyKOyoWO",
        "outputId": "112f1ca4-7551-4c97-803d-9a4bed72fd6f"
      },
      "source": [
        "\r\n",
        "lasso_ns = lasso_model(X_train, X_test, y_train, y_test, [\r\n",
        "    ('poly', PolynomialFeatures(degree=2)),\r\n",
        "    ('model', Lasso(alpha=0.012, fit_intercept=True, max_iter=3000))\r\n",
        "], \"unscaled\")\r\n",
        "lasso_ns"
      ],
      "execution_count": null,
      "outputs": [
        {
          "output_type": "execute_result",
          "data": {
            "text/html": [
              "<div>\n",
              "<style scoped>\n",
              "    .dataframe tbody tr th:only-of-type {\n",
              "        vertical-align: middle;\n",
              "    }\n",
              "\n",
              "    .dataframe tbody tr th {\n",
              "        vertical-align: top;\n",
              "    }\n",
              "\n",
              "    .dataframe thead th {\n",
              "        text-align: right;\n",
              "    }\n",
              "</style>\n",
              "<table border=\"1\" class=\"dataframe\">\n",
              "  <thead>\n",
              "    <tr style=\"text-align: right;\">\n",
              "      <th></th>\n",
              "      <th>features name</th>\n",
              "      <th>#feature</th>\n",
              "      <th>r2_score</th>\n",
              "      <th>MAE</th>\n",
              "      <th>MSE</th>\n",
              "      <th>model</th>\n",
              "      <th>data</th>\n",
              "    </tr>\n",
              "  </thead>\n",
              "  <tbody>\n",
              "    <tr>\n",
              "      <th>0</th>\n",
              "      <td>Index(['TOWNNO', 'TRACT', 'LON', 'LAT', 'CRIM'...</td>\n",
              "      <td>16</td>\n",
              "      <td>0.734733</td>\n",
              "      <td>2.83919</td>\n",
              "      <td>21.2592</td>\n",
              "      <td>Lasso</td>\n",
              "      <td>unscaled</td>\n",
              "    </tr>\n",
              "  </tbody>\n",
              "</table>\n",
              "</div>"
            ],
            "text/plain": [
              "                                       features name #feature  ...  model      data\n",
              "0  Index(['TOWNNO', 'TRACT', 'LON', 'LAT', 'CRIM'...       16  ...  Lasso  unscaled\n",
              "\n",
              "[1 rows x 7 columns]"
            ]
          },
          "metadata": {
            "tags": []
          },
          "execution_count": 36
        }
      ]
    },
    {
      "cell_type": "markdown",
      "metadata": {
        "id": "dqECf_rizc1L"
      },
      "source": [
        "#### Scaled Data"
      ]
    },
    {
      "cell_type": "code",
      "metadata": {
        "colab": {
          "base_uri": "https://localhost:8080/",
          "height": 80
        },
        "id": "O4L3CM_hy-aC",
        "outputId": "15465f4a-7573-4ff1-fc93-c48d0d861f4e"
      },
      "source": [
        "lasso_s = lasso_model(X_train, X_test, y_train, y_test,[\r\n",
        "    ('scalar', StandardScaler()),\r\n",
        "    ('poly', PolynomialFeatures(degree=2)),\r\n",
        "    ('model', Lasso(alpha=0.012, fit_intercept=True, max_iter=3000))\r\n",
        "], \"scaled\")\r\n",
        "lasso_s"
      ],
      "execution_count": null,
      "outputs": [
        {
          "output_type": "execute_result",
          "data": {
            "text/html": [
              "<div>\n",
              "<style scoped>\n",
              "    .dataframe tbody tr th:only-of-type {\n",
              "        vertical-align: middle;\n",
              "    }\n",
              "\n",
              "    .dataframe tbody tr th {\n",
              "        vertical-align: top;\n",
              "    }\n",
              "\n",
              "    .dataframe thead th {\n",
              "        text-align: right;\n",
              "    }\n",
              "</style>\n",
              "<table border=\"1\" class=\"dataframe\">\n",
              "  <thead>\n",
              "    <tr style=\"text-align: right;\">\n",
              "      <th></th>\n",
              "      <th>features name</th>\n",
              "      <th>#feature</th>\n",
              "      <th>r2_score</th>\n",
              "      <th>MAE</th>\n",
              "      <th>MSE</th>\n",
              "      <th>model</th>\n",
              "      <th>data</th>\n",
              "    </tr>\n",
              "  </thead>\n",
              "  <tbody>\n",
              "    <tr>\n",
              "      <th>0</th>\n",
              "      <td>Index(['TOWNNO', 'TRACT', 'LON', 'LAT', 'CRIM'...</td>\n",
              "      <td>16</td>\n",
              "      <td>0.803371</td>\n",
              "      <td>2.49849</td>\n",
              "      <td>15.7584</td>\n",
              "      <td>Lasso</td>\n",
              "      <td>scaled</td>\n",
              "    </tr>\n",
              "  </tbody>\n",
              "</table>\n",
              "</div>"
            ],
            "text/plain": [
              "                                       features name #feature  ...  model    data\n",
              "0  Index(['TOWNNO', 'TRACT', 'LON', 'LAT', 'CRIM'...       16  ...  Lasso  scaled\n",
              "\n",
              "[1 rows x 7 columns]"
            ]
          },
          "metadata": {
            "tags": []
          },
          "execution_count": 37
        }
      ]
    },
    {
      "cell_type": "markdown",
      "metadata": {
        "id": "8DQjqt7Bz3ef"
      },
      "source": [
        "### Random Forest Regressor"
      ]
    },
    {
      "cell_type": "code",
      "metadata": {
        "id": "qlaAC_hKz_ME"
      },
      "source": [
        "def rf_model(X_train, X_test, y_train, y_test, scaling):\r\n",
        "\r\n",
        "  rf = RandomForestRegressor(n_estimators = 400, min_samples_leaf=0.12, random_state=123)\r\n",
        "  rf.fit(X_train, y_train)\r\n",
        "  rf_pred = rf.predict(X_test)\r\n",
        "  results = performance_metrics(X_train.columns, y_test, rf_pred)\r\n",
        "  results['model'] = 'Random Forest Regressor'\r\n",
        "  results['data'] = scaling\r\n",
        "\r\n",
        "  return results\r\n",
        "\r\n"
      ],
      "execution_count": null,
      "outputs": []
    },
    {
      "cell_type": "markdown",
      "metadata": {
        "id": "htuic3w4z7MJ"
      },
      "source": [
        "#### Unscaled Data"
      ]
    },
    {
      "cell_type": "code",
      "metadata": {
        "colab": {
          "base_uri": "https://localhost:8080/",
          "height": 80
        },
        "id": "Kp9iGLZlqvrS",
        "outputId": "2c04c6b2-af10-4d5f-ae03-c4b3d617b30c"
      },
      "source": [
        "rf_ns = rf_model(X_train, X_test, y_train, y_test, \"unscaled\")\r\n",
        "rf_ns"
      ],
      "execution_count": null,
      "outputs": [
        {
          "output_type": "execute_result",
          "data": {
            "text/html": [
              "<div>\n",
              "<style scoped>\n",
              "    .dataframe tbody tr th:only-of-type {\n",
              "        vertical-align: middle;\n",
              "    }\n",
              "\n",
              "    .dataframe tbody tr th {\n",
              "        vertical-align: top;\n",
              "    }\n",
              "\n",
              "    .dataframe thead th {\n",
              "        text-align: right;\n",
              "    }\n",
              "</style>\n",
              "<table border=\"1\" class=\"dataframe\">\n",
              "  <thead>\n",
              "    <tr style=\"text-align: right;\">\n",
              "      <th></th>\n",
              "      <th>features name</th>\n",
              "      <th>#feature</th>\n",
              "      <th>r2_score</th>\n",
              "      <th>MAE</th>\n",
              "      <th>MSE</th>\n",
              "      <th>model</th>\n",
              "      <th>data</th>\n",
              "    </tr>\n",
              "  </thead>\n",
              "  <tbody>\n",
              "    <tr>\n",
              "      <th>0</th>\n",
              "      <td>Index(['TOWNNO', 'TRACT', 'LON', 'LAT', 'CRIM'...</td>\n",
              "      <td>16</td>\n",
              "      <td>0.628536</td>\n",
              "      <td>3.67323</td>\n",
              "      <td>29.7702</td>\n",
              "      <td>Random Forest Regressor</td>\n",
              "      <td>unscaled</td>\n",
              "    </tr>\n",
              "  </tbody>\n",
              "</table>\n",
              "</div>"
            ],
            "text/plain": [
              "                                       features name  ...      data\n",
              "0  Index(['TOWNNO', 'TRACT', 'LON', 'LAT', 'CRIM'...  ...  unscaled\n",
              "\n",
              "[1 rows x 7 columns]"
            ]
          },
          "metadata": {
            "tags": []
          },
          "execution_count": 39
        }
      ]
    },
    {
      "cell_type": "markdown",
      "metadata": {
        "id": "L5CURc7L0lJd"
      },
      "source": [
        "#### Scaled Data"
      ]
    },
    {
      "cell_type": "code",
      "metadata": {
        "id": "ybeQSxjmqx-8",
        "colab": {
          "base_uri": "https://localhost:8080/",
          "height": 80
        },
        "outputId": "8e399c3d-7dee-4e61-b743-a635eb79962e"
      },
      "source": [
        "rf_s = rf_model(X_train_s, X_test_s, y_train_s, y_test_s, \"scaled\")\r\n",
        "rf_s"
      ],
      "execution_count": null,
      "outputs": [
        {
          "output_type": "execute_result",
          "data": {
            "text/html": [
              "<div>\n",
              "<style scoped>\n",
              "    .dataframe tbody tr th:only-of-type {\n",
              "        vertical-align: middle;\n",
              "    }\n",
              "\n",
              "    .dataframe tbody tr th {\n",
              "        vertical-align: top;\n",
              "    }\n",
              "\n",
              "    .dataframe thead th {\n",
              "        text-align: right;\n",
              "    }\n",
              "</style>\n",
              "<table border=\"1\" class=\"dataframe\">\n",
              "  <thead>\n",
              "    <tr style=\"text-align: right;\">\n",
              "      <th></th>\n",
              "      <th>features name</th>\n",
              "      <th>#feature</th>\n",
              "      <th>r2_score</th>\n",
              "      <th>MAE</th>\n",
              "      <th>MSE</th>\n",
              "      <th>model</th>\n",
              "      <th>data</th>\n",
              "    </tr>\n",
              "  </thead>\n",
              "  <tbody>\n",
              "    <tr>\n",
              "      <th>0</th>\n",
              "      <td>Index(['TOWNNO', 'TRACT', 'LON', 'LAT', 'CRIM'...</td>\n",
              "      <td>16</td>\n",
              "      <td>0.628531</td>\n",
              "      <td>0.400452</td>\n",
              "      <td>0.353798</td>\n",
              "      <td>Random Forest Regressor</td>\n",
              "      <td>scaled</td>\n",
              "    </tr>\n",
              "  </tbody>\n",
              "</table>\n",
              "</div>"
            ],
            "text/plain": [
              "                                       features name  ...    data\n",
              "0  Index(['TOWNNO', 'TRACT', 'LON', 'LAT', 'CRIM'...  ...  scaled\n",
              "\n",
              "[1 rows x 7 columns]"
            ]
          },
          "metadata": {
            "tags": []
          },
          "execution_count": 40
        }
      ]
    },
    {
      "cell_type": "markdown",
      "metadata": {
        "id": "EDjyHZqb5sMc"
      },
      "source": [
        "### XGBoost with GridSearch"
      ]
    },
    {
      "cell_type": "code",
      "metadata": {
        "id": "UV5GzZ7xFtk7"
      },
      "source": [
        "gbm_param_grid = {'learning rate': [0.01, 0.1, 0.5, 0.9], 'n_estimators': [200], 'subsample':[0.3,0.5,0.9]}\r\n",
        "gbm = xgb.XGBRegressor()\r\n",
        "grid_mse = GridSearchCV(estimator=gbm, param_grid=gbm_param_grid, scoring='neg_mean_squared_error', cv=4, verbose=1)"
      ],
      "execution_count": null,
      "outputs": []
    },
    {
      "cell_type": "code",
      "metadata": {
        "colab": {
          "base_uri": "https://localhost:8080/"
        },
        "id": "CEFitL21GvVM",
        "outputId": "32e7c302-ea53-4392-fe53-30b9ba93c978"
      },
      "source": [
        "grid_mse.fit(X, y)"
      ],
      "execution_count": null,
      "outputs": [
        {
          "output_type": "stream",
          "text": [
            "Fitting 4 folds for each of 12 candidates, totalling 48 fits\n",
            "[10:38:12] WARNING: /workspace/src/objective/regression_obj.cu:152: reg:linear is now deprecated in favor of reg:squarederror.\n",
            "[10:38:12] WARNING: /workspace/src/objective/regression_obj.cu:152: reg:linear is now deprecated in favor of reg:squarederror.\n"
          ],
          "name": "stdout"
        },
        {
          "output_type": "stream",
          "text": [
            "[Parallel(n_jobs=1)]: Using backend SequentialBackend with 1 concurrent workers.\n"
          ],
          "name": "stderr"
        },
        {
          "output_type": "stream",
          "text": [
            "[10:38:13] WARNING: /workspace/src/objective/regression_obj.cu:152: reg:linear is now deprecated in favor of reg:squarederror.\n",
            "[10:38:13] WARNING: /workspace/src/objective/regression_obj.cu:152: reg:linear is now deprecated in favor of reg:squarederror.\n",
            "[10:38:13] WARNING: /workspace/src/objective/regression_obj.cu:152: reg:linear is now deprecated in favor of reg:squarederror.\n",
            "[10:38:13] WARNING: /workspace/src/objective/regression_obj.cu:152: reg:linear is now deprecated in favor of reg:squarederror.\n",
            "[10:38:13] WARNING: /workspace/src/objective/regression_obj.cu:152: reg:linear is now deprecated in favor of reg:squarederror.\n",
            "[10:38:13] WARNING: /workspace/src/objective/regression_obj.cu:152: reg:linear is now deprecated in favor of reg:squarederror.\n",
            "[10:38:13] WARNING: /workspace/src/objective/regression_obj.cu:152: reg:linear is now deprecated in favor of reg:squarederror.\n",
            "[10:38:13] WARNING: /workspace/src/objective/regression_obj.cu:152: reg:linear is now deprecated in favor of reg:squarederror.\n",
            "[10:38:13] WARNING: /workspace/src/objective/regression_obj.cu:152: reg:linear is now deprecated in favor of reg:squarederror.\n",
            "[10:38:13] WARNING: /workspace/src/objective/regression_obj.cu:152: reg:linear is now deprecated in favor of reg:squarederror.\n",
            "[10:38:14] WARNING: /workspace/src/objective/regression_obj.cu:152: reg:linear is now deprecated in favor of reg:squarederror.\n",
            "[10:38:14] WARNING: /workspace/src/objective/regression_obj.cu:152: reg:linear is now deprecated in favor of reg:squarederror.\n",
            "[10:38:14] WARNING: /workspace/src/objective/regression_obj.cu:152: reg:linear is now deprecated in favor of reg:squarederror.\n",
            "[10:38:14] WARNING: /workspace/src/objective/regression_obj.cu:152: reg:linear is now deprecated in favor of reg:squarederror.\n",
            "[10:38:14] WARNING: /workspace/src/objective/regression_obj.cu:152: reg:linear is now deprecated in favor of reg:squarederror.\n",
            "[10:38:14] WARNING: /workspace/src/objective/regression_obj.cu:152: reg:linear is now deprecated in favor of reg:squarederror.\n",
            "[10:38:14] WARNING: /workspace/src/objective/regression_obj.cu:152: reg:linear is now deprecated in favor of reg:squarederror.\n",
            "[10:38:14] WARNING: /workspace/src/objective/regression_obj.cu:152: reg:linear is now deprecated in favor of reg:squarederror.\n",
            "[10:38:14] WARNING: /workspace/src/objective/regression_obj.cu:152: reg:linear is now deprecated in favor of reg:squarederror.\n",
            "[10:38:14] WARNING: /workspace/src/objective/regression_obj.cu:152: reg:linear is now deprecated in favor of reg:squarederror.\n",
            "[10:38:15] WARNING: /workspace/src/objective/regression_obj.cu:152: reg:linear is now deprecated in favor of reg:squarederror.\n",
            "[10:38:15] WARNING: /workspace/src/objective/regression_obj.cu:152: reg:linear is now deprecated in favor of reg:squarederror.\n",
            "[10:38:15] WARNING: /workspace/src/objective/regression_obj.cu:152: reg:linear is now deprecated in favor of reg:squarederror.\n",
            "[10:38:15] WARNING: /workspace/src/objective/regression_obj.cu:152: reg:linear is now deprecated in favor of reg:squarederror.\n",
            "[10:38:15] WARNING: /workspace/src/objective/regression_obj.cu:152: reg:linear is now deprecated in favor of reg:squarederror.\n",
            "[10:38:15] WARNING: /workspace/src/objective/regression_obj.cu:152: reg:linear is now deprecated in favor of reg:squarederror.\n",
            "[10:38:15] WARNING: /workspace/src/objective/regression_obj.cu:152: reg:linear is now deprecated in favor of reg:squarederror.\n",
            "[10:38:15] WARNING: /workspace/src/objective/regression_obj.cu:152: reg:linear is now deprecated in favor of reg:squarederror.\n",
            "[10:38:15] WARNING: /workspace/src/objective/regression_obj.cu:152: reg:linear is now deprecated in favor of reg:squarederror.\n",
            "[10:38:15] WARNING: /workspace/src/objective/regression_obj.cu:152: reg:linear is now deprecated in favor of reg:squarederror.\n",
            "[10:38:16] WARNING: /workspace/src/objective/regression_obj.cu:152: reg:linear is now deprecated in favor of reg:squarederror.\n",
            "[10:38:16] WARNING: /workspace/src/objective/regression_obj.cu:152: reg:linear is now deprecated in favor of reg:squarederror.\n",
            "[10:38:16] WARNING: /workspace/src/objective/regression_obj.cu:152: reg:linear is now deprecated in favor of reg:squarederror.\n",
            "[10:38:16] WARNING: /workspace/src/objective/regression_obj.cu:152: reg:linear is now deprecated in favor of reg:squarederror.\n",
            "[10:38:16] WARNING: /workspace/src/objective/regression_obj.cu:152: reg:linear is now deprecated in favor of reg:squarederror.\n",
            "[10:38:16] WARNING: /workspace/src/objective/regression_obj.cu:152: reg:linear is now deprecated in favor of reg:squarederror.\n",
            "[10:38:16] WARNING: /workspace/src/objective/regression_obj.cu:152: reg:linear is now deprecated in favor of reg:squarederror.\n",
            "[10:38:16] WARNING: /workspace/src/objective/regression_obj.cu:152: reg:linear is now deprecated in favor of reg:squarederror.\n",
            "[10:38:16] WARNING: /workspace/src/objective/regression_obj.cu:152: reg:linear is now deprecated in favor of reg:squarederror.\n",
            "[10:38:16] WARNING: /workspace/src/objective/regression_obj.cu:152: reg:linear is now deprecated in favor of reg:squarederror.\n",
            "[10:38:17] WARNING: /workspace/src/objective/regression_obj.cu:152: reg:linear is now deprecated in favor of reg:squarederror.\n",
            "[10:38:17] WARNING: /workspace/src/objective/regression_obj.cu:152: reg:linear is now deprecated in favor of reg:squarederror.\n",
            "[10:38:17] WARNING: /workspace/src/objective/regression_obj.cu:152: reg:linear is now deprecated in favor of reg:squarederror.\n",
            "[10:38:17] WARNING: /workspace/src/objective/regression_obj.cu:152: reg:linear is now deprecated in favor of reg:squarederror.\n",
            "[10:38:17] WARNING: /workspace/src/objective/regression_obj.cu:152: reg:linear is now deprecated in favor of reg:squarederror.\n",
            "[10:38:17] WARNING: /workspace/src/objective/regression_obj.cu:152: reg:linear is now deprecated in favor of reg:squarederror.\n",
            "[10:38:17] WARNING: /workspace/src/objective/regression_obj.cu:152: reg:linear is now deprecated in favor of reg:squarederror.\n"
          ],
          "name": "stdout"
        },
        {
          "output_type": "stream",
          "text": [
            "[Parallel(n_jobs=1)]: Done  48 out of  48 | elapsed:    4.8s finished\n"
          ],
          "name": "stderr"
        },
        {
          "output_type": "execute_result",
          "data": {
            "text/plain": [
              "GridSearchCV(cv=4, error_score=nan,\n",
              "             estimator=XGBRegressor(base_score=0.5, booster='gbtree',\n",
              "                                    colsample_bylevel=1, colsample_bynode=1,\n",
              "                                    colsample_bytree=1, gamma=0,\n",
              "                                    importance_type='gain', learning_rate=0.1,\n",
              "                                    max_delta_step=0, max_depth=3,\n",
              "                                    min_child_weight=1, missing=None,\n",
              "                                    n_estimators=100, n_jobs=1, nthread=None,\n",
              "                                    objective='reg:linear', random_state=0,\n",
              "                                    reg_alpha=0, reg_lambda=1,\n",
              "                                    scale_pos_weight=1, seed=None, silent=None,\n",
              "                                    subsample=1, verbosity=1),\n",
              "             iid='deprecated', n_jobs=None,\n",
              "             param_grid={'learning rate': [0.01, 0.1, 0.5, 0.9],\n",
              "                         'n_estimators': [200], 'subsample': [0.3, 0.5, 0.9]},\n",
              "             pre_dispatch='2*n_jobs', refit=True, return_train_score=False,\n",
              "             scoring='neg_mean_squared_error', verbose=1)"
            ]
          },
          "metadata": {
            "tags": []
          },
          "execution_count": 42
        }
      ]
    },
    {
      "cell_type": "code",
      "metadata": {
        "colab": {
          "base_uri": "https://localhost:8080/"
        },
        "id": "9YqKOnsbGyAc",
        "outputId": "8dd463f1-b224-487c-a36a-7c16524e6619"
      },
      "source": [
        "#Print best performing parameters and their RMSE scores\r\n",
        "print('Best parameters found: ', grid_mse.best_params_)\r\n",
        "print('Lowerst RMSE found: ', np.sqrt(np.sqrt(np.abs(grid_mse.best_score_))))"
      ],
      "execution_count": null,
      "outputs": [
        {
          "output_type": "stream",
          "text": [
            "Best parameters found:  {'learning rate': 0.01, 'n_estimators': 200, 'subsample': 0.9}\n",
            "Lowerst RMSE found:  0.8186648095236909\n"
          ],
          "name": "stdout"
        }
      ]
    },
    {
      "cell_type": "code",
      "metadata": {
        "id": "4DXdsu2XG4tt"
      },
      "source": [
        "gbm = xgb.XGBRegressor(learning_rate= 0.01, n_estimators= 200, subsample= 0.3)"
      ],
      "execution_count": null,
      "outputs": []
    },
    {
      "cell_type": "code",
      "metadata": {
        "colab": {
          "base_uri": "https://localhost:8080/",
          "height": 117
        },
        "id": "rGWj63tcHb2v",
        "outputId": "a89d728f-02cb-448f-9007-5be0b7c45b7f"
      },
      "source": [
        "gbm.fit(X_train,y_train)\r\n",
        "\r\n",
        "preds = gbm.predict(X_test)\r\n",
        "\r\n",
        "xgb_ns = performance_metrics(X_train.columns, y_test, preds)\r\n",
        "xgb_ns['model'] = 'XGBoost Regressor'\r\n",
        "xgb_ns['data'] = 'unscaled'\r\n",
        "xgb_ns"
      ],
      "execution_count": null,
      "outputs": [
        {
          "output_type": "stream",
          "text": [
            "[10:38:17] WARNING: /workspace/src/objective/regression_obj.cu:152: reg:linear is now deprecated in favor of reg:squarederror.\n"
          ],
          "name": "stdout"
        },
        {
          "output_type": "execute_result",
          "data": {
            "text/html": [
              "<div>\n",
              "<style scoped>\n",
              "    .dataframe tbody tr th:only-of-type {\n",
              "        vertical-align: middle;\n",
              "    }\n",
              "\n",
              "    .dataframe tbody tr th {\n",
              "        vertical-align: top;\n",
              "    }\n",
              "\n",
              "    .dataframe thead th {\n",
              "        text-align: right;\n",
              "    }\n",
              "</style>\n",
              "<table border=\"1\" class=\"dataframe\">\n",
              "  <thead>\n",
              "    <tr style=\"text-align: right;\">\n",
              "      <th></th>\n",
              "      <th>features name</th>\n",
              "      <th>#feature</th>\n",
              "      <th>r2_score</th>\n",
              "      <th>MAE</th>\n",
              "      <th>MSE</th>\n",
              "      <th>model</th>\n",
              "      <th>data</th>\n",
              "    </tr>\n",
              "  </thead>\n",
              "  <tbody>\n",
              "    <tr>\n",
              "      <th>0</th>\n",
              "      <td>Index(['TOWNNO', 'TRACT', 'LON', 'LAT', 'CRIM'...</td>\n",
              "      <td>16</td>\n",
              "      <td>0.559391</td>\n",
              "      <td>3.8693</td>\n",
              "      <td>35.3117</td>\n",
              "      <td>XGBoost Regressor</td>\n",
              "      <td>unscaled</td>\n",
              "    </tr>\n",
              "  </tbody>\n",
              "</table>\n",
              "</div>"
            ],
            "text/plain": [
              "                                       features name  ...      data\n",
              "0  Index(['TOWNNO', 'TRACT', 'LON', 'LAT', 'CRIM'...  ...  unscaled\n",
              "\n",
              "[1 rows x 7 columns]"
            ]
          },
          "metadata": {
            "tags": []
          },
          "execution_count": 45
        }
      ]
    },
    {
      "cell_type": "markdown",
      "metadata": {
        "id": "DH8yK7zl5y5M"
      },
      "source": [
        "## IV. Feature Selection / Model Selection"
      ]
    },
    {
      "cell_type": "code",
      "metadata": {
        "id": "guuePcnR34uQ"
      },
      "source": [
        "dfs = [lr_ns, lr_s, lr_ns_p2, lr_s_p2, ridge_ns, ridge_s, lasso_ns, lasso_s, rf_ns, rf_s, xgb_ns]\r\n",
        "\r\n",
        "results = pd.concat(dfs ,ignore_index=True)\r\n",
        "a = results.sort_values(by='r2_score', ascending =False)\r\n",
        "a.to_csv('/content/drive/My Drive/AIHack/models.csv' , index = False, header=True)"
      ],
      "execution_count": null,
      "outputs": []
    },
    {
      "cell_type": "markdown",
      "metadata": {
        "id": "3HFXxnd35JHQ"
      },
      "source": [
        "**From this dataframe, we ca, see that the lasso algorithm with scaled dataset is the best (highest r2_score and lowest MSE), let's try to use a subset of these columns and see if it gets better.**"
      ]
    },
    {
      "cell_type": "markdown",
      "metadata": {
        "id": "9OJl9-BL57wI"
      },
      "source": [
        "### Feature Selection"
      ]
    },
    {
      "cell_type": "code",
      "metadata": {
        "id": "HAGp2nXzDcyh"
      },
      "source": [
        "def getCorrelatedFeature(corrdata, threshold):\r\n",
        "    feature = []\r\n",
        "    value = []\r\n",
        "    \r\n",
        "    for i, index in enumerate(corrdata.index):\r\n",
        "        if abs(corrdata[index])> threshold:\r\n",
        "            feature.append(index)\r\n",
        "            value.append(corrdata[index])\r\n",
        "            \r\n",
        "    df = pd.DataFrame(data = value, index = feature, columns=['Corr Value'])\r\n",
        "    return df"
      ],
      "execution_count": null,
      "outputs": []
    },
    {
      "cell_type": "code",
      "metadata": {
        "id": "8MflAfIJDqG-",
        "colab": {
          "base_uri": "https://localhost:8080/",
          "height": 235
        },
        "outputId": "6b87e244-ae3c-479d-a843-df7e496350b3"
      },
      "source": [
        "threshold = 0.45\r\n",
        "corr_value = getCorrelatedFeature(corrmat['Price'], threshold)\r\n",
        "corr_value"
      ],
      "execution_count": null,
      "outputs": [
        {
          "output_type": "execute_result",
          "data": {
            "text/html": [
              "<div>\n",
              "<style scoped>\n",
              "    .dataframe tbody tr th:only-of-type {\n",
              "        vertical-align: middle;\n",
              "    }\n",
              "\n",
              "    .dataframe tbody tr th {\n",
              "        vertical-align: top;\n",
              "    }\n",
              "\n",
              "    .dataframe thead th {\n",
              "        text-align: right;\n",
              "    }\n",
              "</style>\n",
              "<table border=\"1\" class=\"dataframe\">\n",
              "  <thead>\n",
              "    <tr style=\"text-align: right;\">\n",
              "      <th></th>\n",
              "      <th>Corr Value</th>\n",
              "    </tr>\n",
              "  </thead>\n",
              "  <tbody>\n",
              "    <tr>\n",
              "      <th>INDUS</th>\n",
              "      <td>-0.484754</td>\n",
              "    </tr>\n",
              "    <tr>\n",
              "      <th>RM</th>\n",
              "      <td>0.696304</td>\n",
              "    </tr>\n",
              "    <tr>\n",
              "      <th>TAX</th>\n",
              "      <td>-0.471979</td>\n",
              "    </tr>\n",
              "    <tr>\n",
              "      <th>PTRATIO</th>\n",
              "      <td>-0.505655</td>\n",
              "    </tr>\n",
              "    <tr>\n",
              "      <th>LSTAT</th>\n",
              "      <td>-0.740836</td>\n",
              "    </tr>\n",
              "    <tr>\n",
              "      <th>Price</th>\n",
              "      <td>1.000000</td>\n",
              "    </tr>\n",
              "  </tbody>\n",
              "</table>\n",
              "</div>"
            ],
            "text/plain": [
              "         Corr Value\n",
              "INDUS     -0.484754\n",
              "RM         0.696304\n",
              "TAX       -0.471979\n",
              "PTRATIO   -0.505655\n",
              "LSTAT     -0.740836\n",
              "Price      1.000000"
            ]
          },
          "metadata": {
            "tags": []
          },
          "execution_count": 48
        }
      ]
    },
    {
      "cell_type": "code",
      "metadata": {
        "id": "vQ5OeWmjDwNN",
        "colab": {
          "base_uri": "https://localhost:8080/",
          "height": 204
        },
        "outputId": "8adc809b-0f1a-4d23-b31f-e5251a81eb36"
      },
      "source": [
        "correlated_data = data[corr_value.index]\r\n",
        "correlated_data.head()"
      ],
      "execution_count": null,
      "outputs": [
        {
          "output_type": "execute_result",
          "data": {
            "text/html": [
              "<div>\n",
              "<style scoped>\n",
              "    .dataframe tbody tr th:only-of-type {\n",
              "        vertical-align: middle;\n",
              "    }\n",
              "\n",
              "    .dataframe tbody tr th {\n",
              "        vertical-align: top;\n",
              "    }\n",
              "\n",
              "    .dataframe thead th {\n",
              "        text-align: right;\n",
              "    }\n",
              "</style>\n",
              "<table border=\"1\" class=\"dataframe\">\n",
              "  <thead>\n",
              "    <tr style=\"text-align: right;\">\n",
              "      <th></th>\n",
              "      <th>INDUS</th>\n",
              "      <th>RM</th>\n",
              "      <th>TAX</th>\n",
              "      <th>PTRATIO</th>\n",
              "      <th>LSTAT</th>\n",
              "      <th>Price</th>\n",
              "    </tr>\n",
              "  </thead>\n",
              "  <tbody>\n",
              "    <tr>\n",
              "      <th>0</th>\n",
              "      <td>2.31</td>\n",
              "      <td>6.575</td>\n",
              "      <td>296</td>\n",
              "      <td>15.3</td>\n",
              "      <td>4.98</td>\n",
              "      <td>24.0</td>\n",
              "    </tr>\n",
              "    <tr>\n",
              "      <th>1</th>\n",
              "      <td>7.07</td>\n",
              "      <td>6.421</td>\n",
              "      <td>242</td>\n",
              "      <td>17.8</td>\n",
              "      <td>9.14</td>\n",
              "      <td>21.6</td>\n",
              "    </tr>\n",
              "    <tr>\n",
              "      <th>2</th>\n",
              "      <td>7.07</td>\n",
              "      <td>7.185</td>\n",
              "      <td>242</td>\n",
              "      <td>17.8</td>\n",
              "      <td>4.03</td>\n",
              "      <td>34.7</td>\n",
              "    </tr>\n",
              "    <tr>\n",
              "      <th>3</th>\n",
              "      <td>2.18</td>\n",
              "      <td>6.998</td>\n",
              "      <td>222</td>\n",
              "      <td>18.7</td>\n",
              "      <td>2.94</td>\n",
              "      <td>33.4</td>\n",
              "    </tr>\n",
              "    <tr>\n",
              "      <th>4</th>\n",
              "      <td>2.18</td>\n",
              "      <td>7.147</td>\n",
              "      <td>222</td>\n",
              "      <td>18.7</td>\n",
              "      <td>5.33</td>\n",
              "      <td>36.2</td>\n",
              "    </tr>\n",
              "  </tbody>\n",
              "</table>\n",
              "</div>"
            ],
            "text/plain": [
              "   INDUS     RM  TAX  PTRATIO  LSTAT  Price\n",
              "0   2.31  6.575  296     15.3   4.98   24.0\n",
              "1   7.07  6.421  242     17.8   9.14   21.6\n",
              "2   7.07  7.185  242     17.8   4.03   34.7\n",
              "3   2.18  6.998  222     18.7   2.94   33.4\n",
              "4   2.18  7.147  222     18.7   5.33   36.2"
            ]
          },
          "metadata": {
            "tags": []
          },
          "execution_count": 49
        }
      ]
    },
    {
      "cell_type": "code",
      "metadata": {
        "id": "ptZ7Pso6E5sm",
        "colab": {
          "base_uri": "https://localhost:8080/",
          "height": 224
        },
        "outputId": "779325f0-87c5-49fe-e538-0e852fc82985"
      },
      "source": [
        "#[note] fs : feature selection\r\n",
        "X_fs = correlated_data.drop(labels=['Price'], axis = 1)\r\n",
        "y_fs = correlated_data['Price']\r\n",
        "X.head()"
      ],
      "execution_count": null,
      "outputs": [
        {
          "output_type": "execute_result",
          "data": {
            "text/html": [
              "<div>\n",
              "<style scoped>\n",
              "    .dataframe tbody tr th:only-of-type {\n",
              "        vertical-align: middle;\n",
              "    }\n",
              "\n",
              "    .dataframe tbody tr th {\n",
              "        vertical-align: top;\n",
              "    }\n",
              "\n",
              "    .dataframe thead th {\n",
              "        text-align: right;\n",
              "    }\n",
              "</style>\n",
              "<table border=\"1\" class=\"dataframe\">\n",
              "  <thead>\n",
              "    <tr style=\"text-align: right;\">\n",
              "      <th></th>\n",
              "      <th>TOWNNO</th>\n",
              "      <th>TRACT</th>\n",
              "      <th>LON</th>\n",
              "      <th>LAT</th>\n",
              "      <th>CRIM</th>\n",
              "      <th>ZN</th>\n",
              "      <th>INDUS</th>\n",
              "      <th>CHAS</th>\n",
              "      <th>NOX</th>\n",
              "      <th>RM</th>\n",
              "      <th>AGE</th>\n",
              "      <th>DIS</th>\n",
              "      <th>RAD</th>\n",
              "      <th>TAX</th>\n",
              "      <th>PTRATIO</th>\n",
              "      <th>B</th>\n",
              "      <th>LSTAT</th>\n",
              "      <th>Price</th>\n",
              "    </tr>\n",
              "  </thead>\n",
              "  <tbody>\n",
              "    <tr>\n",
              "      <th>0</th>\n",
              "      <td>0</td>\n",
              "      <td>2011</td>\n",
              "      <td>-70.955</td>\n",
              "      <td>42.2550</td>\n",
              "      <td>0.00632</td>\n",
              "      <td>18.0</td>\n",
              "      <td>2.31</td>\n",
              "      <td>0</td>\n",
              "      <td>0.538</td>\n",
              "      <td>6.575</td>\n",
              "      <td>65.2</td>\n",
              "      <td>4.0900</td>\n",
              "      <td>1</td>\n",
              "      <td>296</td>\n",
              "      <td>15.3</td>\n",
              "      <td>396.90</td>\n",
              "      <td>4.98</td>\n",
              "      <td>24.0</td>\n",
              "    </tr>\n",
              "    <tr>\n",
              "      <th>1</th>\n",
              "      <td>1</td>\n",
              "      <td>2021</td>\n",
              "      <td>-70.950</td>\n",
              "      <td>42.2875</td>\n",
              "      <td>0.02731</td>\n",
              "      <td>0.0</td>\n",
              "      <td>7.07</td>\n",
              "      <td>0</td>\n",
              "      <td>0.469</td>\n",
              "      <td>6.421</td>\n",
              "      <td>78.9</td>\n",
              "      <td>4.9671</td>\n",
              "      <td>2</td>\n",
              "      <td>242</td>\n",
              "      <td>17.8</td>\n",
              "      <td>396.90</td>\n",
              "      <td>9.14</td>\n",
              "      <td>21.6</td>\n",
              "    </tr>\n",
              "    <tr>\n",
              "      <th>2</th>\n",
              "      <td>1</td>\n",
              "      <td>2022</td>\n",
              "      <td>-70.936</td>\n",
              "      <td>42.2830</td>\n",
              "      <td>0.02729</td>\n",
              "      <td>0.0</td>\n",
              "      <td>7.07</td>\n",
              "      <td>0</td>\n",
              "      <td>0.469</td>\n",
              "      <td>7.185</td>\n",
              "      <td>61.1</td>\n",
              "      <td>4.9671</td>\n",
              "      <td>2</td>\n",
              "      <td>242</td>\n",
              "      <td>17.8</td>\n",
              "      <td>392.83</td>\n",
              "      <td>4.03</td>\n",
              "      <td>34.7</td>\n",
              "    </tr>\n",
              "    <tr>\n",
              "      <th>3</th>\n",
              "      <td>2</td>\n",
              "      <td>2031</td>\n",
              "      <td>-70.928</td>\n",
              "      <td>42.2930</td>\n",
              "      <td>0.03237</td>\n",
              "      <td>0.0</td>\n",
              "      <td>2.18</td>\n",
              "      <td>0</td>\n",
              "      <td>0.458</td>\n",
              "      <td>6.998</td>\n",
              "      <td>45.8</td>\n",
              "      <td>6.0622</td>\n",
              "      <td>3</td>\n",
              "      <td>222</td>\n",
              "      <td>18.7</td>\n",
              "      <td>394.63</td>\n",
              "      <td>2.94</td>\n",
              "      <td>33.4</td>\n",
              "    </tr>\n",
              "    <tr>\n",
              "      <th>4</th>\n",
              "      <td>2</td>\n",
              "      <td>2032</td>\n",
              "      <td>-70.922</td>\n",
              "      <td>42.2980</td>\n",
              "      <td>0.06905</td>\n",
              "      <td>0.0</td>\n",
              "      <td>2.18</td>\n",
              "      <td>0</td>\n",
              "      <td>0.458</td>\n",
              "      <td>7.147</td>\n",
              "      <td>54.2</td>\n",
              "      <td>6.0622</td>\n",
              "      <td>3</td>\n",
              "      <td>222</td>\n",
              "      <td>18.7</td>\n",
              "      <td>396.90</td>\n",
              "      <td>5.33</td>\n",
              "      <td>36.2</td>\n",
              "    </tr>\n",
              "  </tbody>\n",
              "</table>\n",
              "</div>"
            ],
            "text/plain": [
              "   TOWNNO  TRACT     LON      LAT     CRIM  ...  TAX  PTRATIO       B  LSTAT  Price\n",
              "0       0   2011 -70.955  42.2550  0.00632  ...  296     15.3  396.90   4.98   24.0\n",
              "1       1   2021 -70.950  42.2875  0.02731  ...  242     17.8  396.90   9.14   21.6\n",
              "2       1   2022 -70.936  42.2830  0.02729  ...  242     17.8  392.83   4.03   34.7\n",
              "3       2   2031 -70.928  42.2930  0.03237  ...  222     18.7  394.63   2.94   33.4\n",
              "4       2   2032 -70.922  42.2980  0.06905  ...  222     18.7  396.90   5.33   36.2\n",
              "\n",
              "[5 rows x 18 columns]"
            ]
          },
          "metadata": {
            "tags": []
          },
          "execution_count": 50
        }
      ]
    },
    {
      "cell_type": "code",
      "metadata": {
        "id": "vCerQvdwGQqN",
        "colab": {
          "base_uri": "https://localhost:8080/",
          "height": 80
        },
        "outputId": "77a2c1aa-cd9c-4900-f335-e058d8a4fafb"
      },
      "source": [
        "X_train, X_test, y_train, y_test = train_test_split(X_fs, y_fs, test_size = 0.33)\r\n",
        "\r\n",
        "\r\n",
        "lasso_s_fs = lasso_model(X_train, X_test, y_train, y_test,[\r\n",
        "    ('scalar', StandardScaler()),\r\n",
        "    ('poly', PolynomialFeatures(degree=2)),\r\n",
        "    ('model', Lasso(alpha=0.012, fit_intercept=True, max_iter=3000))\r\n",
        "], \"scaled\")\r\n",
        "lasso_s_fs"
      ],
      "execution_count": null,
      "outputs": [
        {
          "output_type": "execute_result",
          "data": {
            "text/html": [
              "<div>\n",
              "<style scoped>\n",
              "    .dataframe tbody tr th:only-of-type {\n",
              "        vertical-align: middle;\n",
              "    }\n",
              "\n",
              "    .dataframe tbody tr th {\n",
              "        vertical-align: top;\n",
              "    }\n",
              "\n",
              "    .dataframe thead th {\n",
              "        text-align: right;\n",
              "    }\n",
              "</style>\n",
              "<table border=\"1\" class=\"dataframe\">\n",
              "  <thead>\n",
              "    <tr style=\"text-align: right;\">\n",
              "      <th></th>\n",
              "      <th>features name</th>\n",
              "      <th>#feature</th>\n",
              "      <th>r2_score</th>\n",
              "      <th>MAE</th>\n",
              "      <th>MSE</th>\n",
              "      <th>model</th>\n",
              "      <th>data</th>\n",
              "    </tr>\n",
              "  </thead>\n",
              "  <tbody>\n",
              "    <tr>\n",
              "      <th>0</th>\n",
              "      <td>Index(['INDUS', 'RM', 'TAX', 'PTRATIO', 'LSTAT...</td>\n",
              "      <td>4</td>\n",
              "      <td>0.812782</td>\n",
              "      <td>2.68933</td>\n",
              "      <td>15.5122</td>\n",
              "      <td>Lasso</td>\n",
              "      <td>scaled</td>\n",
              "    </tr>\n",
              "  </tbody>\n",
              "</table>\n",
              "</div>"
            ],
            "text/plain": [
              "                                       features name #feature  ...  model    data\n",
              "0  Index(['INDUS', 'RM', 'TAX', 'PTRATIO', 'LSTAT...        4  ...  Lasso  scaled\n",
              "\n",
              "[1 rows x 7 columns]"
            ]
          },
          "metadata": {
            "tags": []
          },
          "execution_count": 51
        }
      ]
    },
    {
      "cell_type": "code",
      "metadata": {
        "colab": {
          "base_uri": "https://localhost:8080/",
          "height": 80
        },
        "id": "dQldeGzpJnQZ",
        "outputId": "247cbb1a-b2ec-453c-dc87-1895c1699045"
      },
      "source": [
        "lasso_ns_fs = lasso_model(X_train, X_test, y_train, y_test,[\r\n",
        "    ('poly', PolynomialFeatures(degree=2)),\r\n",
        "    ('model', Lasso(alpha=0.012, fit_intercept=True, max_iter=3000))\r\n",
        "], \"unscaled\")\r\n",
        "lasso_ns_fs"
      ],
      "execution_count": null,
      "outputs": [
        {
          "output_type": "execute_result",
          "data": {
            "text/html": [
              "<div>\n",
              "<style scoped>\n",
              "    .dataframe tbody tr th:only-of-type {\n",
              "        vertical-align: middle;\n",
              "    }\n",
              "\n",
              "    .dataframe tbody tr th {\n",
              "        vertical-align: top;\n",
              "    }\n",
              "\n",
              "    .dataframe thead th {\n",
              "        text-align: right;\n",
              "    }\n",
              "</style>\n",
              "<table border=\"1\" class=\"dataframe\">\n",
              "  <thead>\n",
              "    <tr style=\"text-align: right;\">\n",
              "      <th></th>\n",
              "      <th>features name</th>\n",
              "      <th>#feature</th>\n",
              "      <th>r2_score</th>\n",
              "      <th>MAE</th>\n",
              "      <th>MSE</th>\n",
              "      <th>model</th>\n",
              "      <th>data</th>\n",
              "    </tr>\n",
              "  </thead>\n",
              "  <tbody>\n",
              "    <tr>\n",
              "      <th>0</th>\n",
              "      <td>Index(['INDUS', 'RM', 'TAX', 'PTRATIO', 'LSTAT...</td>\n",
              "      <td>4</td>\n",
              "      <td>0.811319</td>\n",
              "      <td>2.72196</td>\n",
              "      <td>15.6334</td>\n",
              "      <td>Lasso</td>\n",
              "      <td>scaled</td>\n",
              "    </tr>\n",
              "  </tbody>\n",
              "</table>\n",
              "</div>"
            ],
            "text/plain": [
              "                                       features name #feature  ...  model    data\n",
              "0  Index(['INDUS', 'RM', 'TAX', 'PTRATIO', 'LSTAT...        4  ...  Lasso  scaled\n",
              "\n",
              "[1 rows x 7 columns]"
            ]
          },
          "metadata": {
            "tags": []
          },
          "execution_count": 52
        }
      ]
    },
    {
      "cell_type": "code",
      "metadata": {
        "colab": {
          "base_uri": "https://localhost:8080/",
          "height": 80
        },
        "id": "H7jqUn6eKDRo",
        "outputId": "342415f3-7bca-4d14-eea9-6da362918ce3"
      },
      "source": [
        "ridge_ns_fs = ridge_model(X_train, X_test, y_train, y_test, [\r\n",
        "    ('poly', PolynomialFeatures(degree=2)),\r\n",
        "    ('model', Ridge(alpha=3.8, fit_intercept=True))\r\n",
        "], \"unscaled\")\r\n",
        "ridge_ns_fs"
      ],
      "execution_count": null,
      "outputs": [
        {
          "output_type": "execute_result",
          "data": {
            "text/html": [
              "<div>\n",
              "<style scoped>\n",
              "    .dataframe tbody tr th:only-of-type {\n",
              "        vertical-align: middle;\n",
              "    }\n",
              "\n",
              "    .dataframe tbody tr th {\n",
              "        vertical-align: top;\n",
              "    }\n",
              "\n",
              "    .dataframe thead th {\n",
              "        text-align: right;\n",
              "    }\n",
              "</style>\n",
              "<table border=\"1\" class=\"dataframe\">\n",
              "  <thead>\n",
              "    <tr style=\"text-align: right;\">\n",
              "      <th></th>\n",
              "      <th>features name</th>\n",
              "      <th>#feature</th>\n",
              "      <th>r2_score</th>\n",
              "      <th>MAE</th>\n",
              "      <th>MSE</th>\n",
              "      <th>model</th>\n",
              "      <th>data</th>\n",
              "    </tr>\n",
              "  </thead>\n",
              "  <tbody>\n",
              "    <tr>\n",
              "      <th>0</th>\n",
              "      <td>Index(['INDUS', 'RM', 'TAX', 'PTRATIO', 'LSTAT...</td>\n",
              "      <td>4</td>\n",
              "      <td>0.808555</td>\n",
              "      <td>2.7361</td>\n",
              "      <td>15.8624</td>\n",
              "      <td>Ridge</td>\n",
              "      <td>unscaled</td>\n",
              "    </tr>\n",
              "  </tbody>\n",
              "</table>\n",
              "</div>"
            ],
            "text/plain": [
              "                                       features name #feature  ...  model      data\n",
              "0  Index(['INDUS', 'RM', 'TAX', 'PTRATIO', 'LSTAT...        4  ...  Ridge  unscaled\n",
              "\n",
              "[1 rows x 7 columns]"
            ]
          },
          "metadata": {
            "tags": []
          },
          "execution_count": 53
        }
      ]
    },
    {
      "cell_type": "code",
      "metadata": {
        "colab": {
          "base_uri": "https://localhost:8080/",
          "height": 80
        },
        "id": "PIs0gKC3KN5L",
        "outputId": "d120191f-2649-45f7-e77f-9b0b69aa4f1e"
      },
      "source": [
        "ridge_s_fs = ridge_model(X_train, X_test, y_train, y_test, [\r\n",
        "    ('scalar', StandardScaler()),\r\n",
        "    ('poly', PolynomialFeatures(degree=2)),\r\n",
        "    ('model', Ridge(alpha=3.8, fit_intercept=True))\r\n",
        "], \"scaled\")\r\n",
        "ridge_s_fs"
      ],
      "execution_count": null,
      "outputs": [
        {
          "output_type": "execute_result",
          "data": {
            "text/html": [
              "<div>\n",
              "<style scoped>\n",
              "    .dataframe tbody tr th:only-of-type {\n",
              "        vertical-align: middle;\n",
              "    }\n",
              "\n",
              "    .dataframe tbody tr th {\n",
              "        vertical-align: top;\n",
              "    }\n",
              "\n",
              "    .dataframe thead th {\n",
              "        text-align: right;\n",
              "    }\n",
              "</style>\n",
              "<table border=\"1\" class=\"dataframe\">\n",
              "  <thead>\n",
              "    <tr style=\"text-align: right;\">\n",
              "      <th></th>\n",
              "      <th>features name</th>\n",
              "      <th>#feature</th>\n",
              "      <th>r2_score</th>\n",
              "      <th>MAE</th>\n",
              "      <th>MSE</th>\n",
              "      <th>model</th>\n",
              "      <th>data</th>\n",
              "    </tr>\n",
              "  </thead>\n",
              "  <tbody>\n",
              "    <tr>\n",
              "      <th>0</th>\n",
              "      <td>Index(['INDUS', 'RM', 'TAX', 'PTRATIO', 'LSTAT...</td>\n",
              "      <td>4</td>\n",
              "      <td>0.811679</td>\n",
              "      <td>2.67877</td>\n",
              "      <td>15.6036</td>\n",
              "      <td>Ridge</td>\n",
              "      <td>scaled</td>\n",
              "    </tr>\n",
              "  </tbody>\n",
              "</table>\n",
              "</div>"
            ],
            "text/plain": [
              "                                       features name #feature  ...  model    data\n",
              "0  Index(['INDUS', 'RM', 'TAX', 'PTRATIO', 'LSTAT...        4  ...  Ridge  scaled\n",
              "\n",
              "[1 rows x 7 columns]"
            ]
          },
          "metadata": {
            "tags": []
          },
          "execution_count": 54
        }
      ]
    },
    {
      "cell_type": "markdown",
      "metadata": {
        "id": "qx-pDjcKbFh-"
      },
      "source": [
        "### Model Selection"
      ]
    },
    {
      "cell_type": "code",
      "metadata": {
        "id": "vXUKCj3I6ulS"
      },
      "source": [
        "results = pd.concat([results,lasso_s_fs,lasso_ns_fs,ridge_ns_fs,ridge_s_fs], ignore_index=True)\r\n",
        "all_models = results.sort_values(by='r2_score', ascending =False)\r\n",
        "all_models.to_csv('/content/drive/My Drive/AIHack/all.models.csv' , index = False, header=True)"
      ],
      "execution_count": null,
      "outputs": []
    },
    {
      "cell_type": "code",
      "metadata": {
        "colab": {
          "base_uri": "https://localhost:8080/",
          "height": 204
        },
        "id": "oL2S4BHFKBZa",
        "outputId": "84139e38-b31c-48e8-acba-00191413435d"
      },
      "source": [
        "all_models.head()"
      ],
      "execution_count": null,
      "outputs": [
        {
          "output_type": "execute_result",
          "data": {
            "text/html": [
              "<div>\n",
              "<style scoped>\n",
              "    .dataframe tbody tr th:only-of-type {\n",
              "        vertical-align: middle;\n",
              "    }\n",
              "\n",
              "    .dataframe tbody tr th {\n",
              "        vertical-align: top;\n",
              "    }\n",
              "\n",
              "    .dataframe thead th {\n",
              "        text-align: right;\n",
              "    }\n",
              "</style>\n",
              "<table border=\"1\" class=\"dataframe\">\n",
              "  <thead>\n",
              "    <tr style=\"text-align: right;\">\n",
              "      <th></th>\n",
              "      <th>features name</th>\n",
              "      <th>#feature</th>\n",
              "      <th>r2_score</th>\n",
              "      <th>MAE</th>\n",
              "      <th>MSE</th>\n",
              "      <th>model</th>\n",
              "      <th>data</th>\n",
              "    </tr>\n",
              "  </thead>\n",
              "  <tbody>\n",
              "    <tr>\n",
              "      <th>11</th>\n",
              "      <td>Index(['INDUS', 'RM', 'TAX', 'PTRATIO', 'LSTAT...</td>\n",
              "      <td>4</td>\n",
              "      <td>0.812782</td>\n",
              "      <td>2.68933</td>\n",
              "      <td>15.5122</td>\n",
              "      <td>Lasso</td>\n",
              "      <td>scaled</td>\n",
              "    </tr>\n",
              "    <tr>\n",
              "      <th>14</th>\n",
              "      <td>Index(['INDUS', 'RM', 'TAX', 'PTRATIO', 'LSTAT...</td>\n",
              "      <td>4</td>\n",
              "      <td>0.811679</td>\n",
              "      <td>2.67877</td>\n",
              "      <td>15.6036</td>\n",
              "      <td>Ridge</td>\n",
              "      <td>scaled</td>\n",
              "    </tr>\n",
              "    <tr>\n",
              "      <th>12</th>\n",
              "      <td>Index(['INDUS', 'RM', 'TAX', 'PTRATIO', 'LSTAT...</td>\n",
              "      <td>4</td>\n",
              "      <td>0.811319</td>\n",
              "      <td>2.72196</td>\n",
              "      <td>15.6334</td>\n",
              "      <td>Lasso</td>\n",
              "      <td>scaled</td>\n",
              "    </tr>\n",
              "    <tr>\n",
              "      <th>13</th>\n",
              "      <td>Index(['INDUS', 'RM', 'TAX', 'PTRATIO', 'LSTAT...</td>\n",
              "      <td>4</td>\n",
              "      <td>0.808555</td>\n",
              "      <td>2.7361</td>\n",
              "      <td>15.8624</td>\n",
              "      <td>Ridge</td>\n",
              "      <td>unscaled</td>\n",
              "    </tr>\n",
              "    <tr>\n",
              "      <th>7</th>\n",
              "      <td>Index(['TOWNNO', 'TRACT', 'LON', 'LAT', 'CRIM'...</td>\n",
              "      <td>16</td>\n",
              "      <td>0.803371</td>\n",
              "      <td>2.49849</td>\n",
              "      <td>15.7584</td>\n",
              "      <td>Lasso</td>\n",
              "      <td>scaled</td>\n",
              "    </tr>\n",
              "  </tbody>\n",
              "</table>\n",
              "</div>"
            ],
            "text/plain": [
              "                                        features name #feature  ...  model      data\n",
              "11  Index(['INDUS', 'RM', 'TAX', 'PTRATIO', 'LSTAT...        4  ...  Lasso    scaled\n",
              "14  Index(['INDUS', 'RM', 'TAX', 'PTRATIO', 'LSTAT...        4  ...  Ridge    scaled\n",
              "12  Index(['INDUS', 'RM', 'TAX', 'PTRATIO', 'LSTAT...        4  ...  Lasso    scaled\n",
              "13  Index(['INDUS', 'RM', 'TAX', 'PTRATIO', 'LSTAT...        4  ...  Ridge  unscaled\n",
              "7   Index(['TOWNNO', 'TRACT', 'LON', 'LAT', 'CRIM'...       16  ...  Lasso    scaled\n",
              "\n",
              "[5 rows x 7 columns]"
            ]
          },
          "metadata": {
            "tags": []
          },
          "execution_count": 56
        }
      ]
    },
    {
      "cell_type": "markdown",
      "metadata": {
        "id": "JNGRs_8K7SA2"
      },
      "source": [
        "**We get better result of r2_score with feature selection and the MSE decreased a little bit for the Lasso scaled model.**"
      ]
    }
  ]
}